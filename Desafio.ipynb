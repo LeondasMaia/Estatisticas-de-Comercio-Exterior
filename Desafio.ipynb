{
 "cells": [
  {
   "cell_type": "code",
   "execution_count": 32,
   "metadata": {},
   "outputs": [],
   "source": [
    "import plotly.express as px\n",
    "import pandas as pd\n",
    "from plotly.subplots import make_subplots\n",
    "import plotly.graph_objs as go\n",
    "import os"
   ]
  },
  {
   "cell_type": "code",
   "execution_count": 5,
   "metadata": {},
   "outputs": [],
   "source": [
    "#ALterando para o diretorio de utilização\n",
    "novo_diretorio = r\"C:\\Users\\leond\\OneDrive\\Área de Trabalho\\Seu_Bone\\PS\\Arquivos\"\n",
    "\n",
    "#Alterar o diretório atual para o novo diretório\n",
    "os.chdir(novo_diretorio)"
   ]
  },
  {
   "cell_type": "code",
   "execution_count": 6,
   "metadata": {},
   "outputs": [],
   "source": [
    "#Definindo as bases de dados\n",
    "\n",
    "#Tabela de importações 2020\n",
    "import20 = pd.read_csv('IMP_2020.csv', sep = ';')\n",
    "\n",
    "#Tabela de importações 2021\n",
    "import21 = pd.read_csv('IMP_2021.csv', sep = ';')\n",
    "\n",
    "#Tabela de exportações 2020\n",
    "export20 = pd.read_csv('EXP_2020.csv', sep = ';')\n",
    "\n",
    "#Tabela de exportações 2021\n",
    "export21 = pd.read_csv('EXP_2021.csv', sep = ';')"
   ]
  },
  {
   "cell_type": "code",
   "execution_count": 7,
   "metadata": {},
   "outputs": [],
   "source": [
    "#Fazendo a união das duas tabelas, a de 2020 e depois a de 2021, gerando a tabela de importação / exportação total (2020+2021):\n",
    "import_total = pd.concat([import20, import21], ignore_index=True)\n",
    "\n",
    "export_total = pd.concat([export20, export21], ignore_index=True)"
   ]
  },
  {
   "cell_type": "code",
   "execution_count": 8,
   "metadata": {},
   "outputs": [
    {
     "name": "stdout",
     "output_type": "stream",
     "text": [
      "<class 'pandas.core.frame.DataFrame'>\n",
      "RangeIndex: 3784003 entries, 0 to 3784002\n",
      "Data columns (total 13 columns):\n",
      " #   Column      Dtype \n",
      "---  ------      ----- \n",
      " 0   CO_ANO      int64 \n",
      " 1   CO_MES      int64 \n",
      " 2   CO_NCM      int64 \n",
      " 3   CO_UNID     int64 \n",
      " 4   CO_PAIS     int64 \n",
      " 5   SG_UF_NCM   object\n",
      " 6   CO_VIA      int64 \n",
      " 7   CO_URF      int64 \n",
      " 8   QT_ESTAT    int64 \n",
      " 9   KG_LIQUIDO  int64 \n",
      " 10  VL_FOB      int64 \n",
      " 11  VL_FRETE    int64 \n",
      " 12  VL_SEGURO   int64 \n",
      "dtypes: int64(12), object(1)\n",
      "memory usage: 375.3+ MB\n"
     ]
    }
   ],
   "source": [
    "#Prática de limpeza dos dados da tabela, identificando algumas informações dela\n",
    "import_total.info()"
   ]
  },
  {
   "cell_type": "code",
   "execution_count": 9,
   "metadata": {},
   "outputs": [
    {
     "data": {
      "text/plain": [
       "CO_ANO        0\n",
       "CO_MES        0\n",
       "CO_NCM        0\n",
       "CO_UNID       0\n",
       "CO_PAIS       0\n",
       "SG_UF_NCM     0\n",
       "CO_VIA        0\n",
       "CO_URF        0\n",
       "QT_ESTAT      0\n",
       "KG_LIQUIDO    0\n",
       "VL_FOB        0\n",
       "VL_FRETE      0\n",
       "VL_SEGURO     0\n",
       "dtype: int64"
      ]
     },
     "execution_count": 9,
     "metadata": {},
     "output_type": "execute_result"
    }
   ],
   "source": [
    "#Localizando valores duplicados e quantos (Apenas Importações)\n",
    "import_total.isnull().sum()"
   ]
  },
  {
   "cell_type": "code",
   "execution_count": 10,
   "metadata": {},
   "outputs": [
    {
     "data": {
      "text/plain": [
       "0"
      ]
     },
     "execution_count": 10,
     "metadata": {},
     "output_type": "execute_result"
    }
   ],
   "source": [
    "import_total.duplicated().sum()\n",
    "#Caso houvesse a aparição de algum valor, significaria que existiria um valor nulo/duplicado"
   ]
  },
  {
   "cell_type": "code",
   "execution_count": 11,
   "metadata": {},
   "outputs": [
    {
     "name": "stdout",
     "output_type": "stream",
     "text": [
      "<class 'pandas.core.frame.DataFrame'>\n",
      "RangeIndex: 2824851 entries, 0 to 2824850\n",
      "Data columns (total 11 columns):\n",
      " #   Column      Dtype \n",
      "---  ------      ----- \n",
      " 0   CO_ANO      int64 \n",
      " 1   CO_MES      int64 \n",
      " 2   CO_NCM      int64 \n",
      " 3   CO_UNID     int64 \n",
      " 4   CO_PAIS     int64 \n",
      " 5   SG_UF_NCM   object\n",
      " 6   CO_VIA      int64 \n",
      " 7   CO_URF      int64 \n",
      " 8   QT_ESTAT    int64 \n",
      " 9   KG_LIQUIDO  int64 \n",
      " 10  VL_FOB      int64 \n",
      "dtypes: int64(10), object(1)\n",
      "memory usage: 237.1+ MB\n"
     ]
    }
   ],
   "source": [
    "#Realizando as mesmas precauções sobre os itens exportados\n",
    "#Informações sobre a coluna dos exportados\n",
    "export_total.info()"
   ]
  },
  {
   "cell_type": "code",
   "execution_count": 12,
   "metadata": {},
   "outputs": [
    {
     "data": {
      "text/plain": [
       "CO_ANO        0\n",
       "CO_MES        0\n",
       "CO_NCM        0\n",
       "CO_UNID       0\n",
       "CO_PAIS       0\n",
       "SG_UF_NCM     0\n",
       "CO_VIA        0\n",
       "CO_URF        0\n",
       "QT_ESTAT      0\n",
       "KG_LIQUIDO    0\n",
       "VL_FOB        0\n",
       "dtype: int64"
      ]
     },
     "execution_count": 12,
     "metadata": {},
     "output_type": "execute_result"
    }
   ],
   "source": [
    "#Verificando existencia de itens nulos\n",
    "export_total.isnull().sum()"
   ]
  },
  {
   "cell_type": "code",
   "execution_count": 13,
   "metadata": {},
   "outputs": [
    {
     "data": {
      "text/plain": [
       "0"
      ]
     },
     "execution_count": 13,
     "metadata": {},
     "output_type": "execute_result"
    }
   ],
   "source": [
    "#Verificando a existencia de itens duplicados\n",
    "export_total.duplicated().sum() "
   ]
  },
  {
   "cell_type": "code",
   "execution_count": 15,
   "metadata": {},
   "outputs": [
    {
     "data": {
      "text/html": [
       "<div>\n",
       "<style scoped>\n",
       "    .dataframe tbody tr th:only-of-type {\n",
       "        vertical-align: middle;\n",
       "    }\n",
       "\n",
       "    .dataframe tbody tr th {\n",
       "        vertical-align: top;\n",
       "    }\n",
       "\n",
       "    .dataframe thead th {\n",
       "        text-align: right;\n",
       "    }\n",
       "</style>\n",
       "<table border=\"1\" class=\"dataframe\">\n",
       "  <thead>\n",
       "    <tr style=\"text-align: right;\">\n",
       "      <th></th>\n",
       "      <th>SG_UF_NCM</th>\n",
       "      <th>CO_NCM</th>\n",
       "      <th>CO_ANO</th>\n",
       "      <th>CO_MES</th>\n",
       "      <th>CO_UNID</th>\n",
       "      <th>CO_PAIS</th>\n",
       "      <th>CO_VIA</th>\n",
       "      <th>CO_URF</th>\n",
       "      <th>QT_ESTAT</th>\n",
       "      <th>KG_LIQUIDO</th>\n",
       "      <th>VL_FOB</th>\n",
       "      <th>VL_FRETE</th>\n",
       "      <th>VL_SEGURO</th>\n",
       "    </tr>\n",
       "  </thead>\n",
       "  <tbody>\n",
       "    <tr>\n",
       "      <th>0</th>\n",
       "      <td>AM</td>\n",
       "      <td>85322410</td>\n",
       "      <td>2021</td>\n",
       "      <td>3335</td>\n",
       "      <td>5401</td>\n",
       "      <td>191119</td>\n",
       "      <td>1268</td>\n",
       "      <td>166485320</td>\n",
       "      <td>27650352539</td>\n",
       "      <td>544744</td>\n",
       "      <td>124351940</td>\n",
       "      <td>7458201</td>\n",
       "      <td>44806</td>\n",
       "    </tr>\n",
       "    <tr>\n",
       "      <th>1</th>\n",
       "      <td>AM</td>\n",
       "      <td>85322410</td>\n",
       "      <td>2020</td>\n",
       "      <td>3091</td>\n",
       "      <td>5225</td>\n",
       "      <td>191194</td>\n",
       "      <td>1186</td>\n",
       "      <td>172514708</td>\n",
       "      <td>22248777967</td>\n",
       "      <td>454466</td>\n",
       "      <td>88747149</td>\n",
       "      <td>4917111</td>\n",
       "      <td>30288</td>\n",
       "    </tr>\n",
       "    <tr>\n",
       "      <th>2</th>\n",
       "      <td>AM</td>\n",
       "      <td>85332120</td>\n",
       "      <td>2021</td>\n",
       "      <td>2968</td>\n",
       "      <td>4851</td>\n",
       "      <td>160519</td>\n",
       "      <td>1122</td>\n",
       "      <td>146288508</td>\n",
       "      <td>19002954497</td>\n",
       "      <td>364587</td>\n",
       "      <td>33643771</td>\n",
       "      <td>4386315</td>\n",
       "      <td>13423</td>\n",
       "    </tr>\n",
       "    <tr>\n",
       "      <th>3</th>\n",
       "      <td>SP</td>\n",
       "      <td>85322410</td>\n",
       "      <td>2020</td>\n",
       "      <td>3566</td>\n",
       "      <td>6050</td>\n",
       "      <td>218823</td>\n",
       "      <td>1819</td>\n",
       "      <td>450230200</td>\n",
       "      <td>15895182710</td>\n",
       "      <td>250229</td>\n",
       "      <td>54668321</td>\n",
       "      <td>3785301</td>\n",
       "      <td>18057</td>\n",
       "    </tr>\n",
       "    <tr>\n",
       "      <th>4</th>\n",
       "      <td>SP</td>\n",
       "      <td>85322410</td>\n",
       "      <td>2021</td>\n",
       "      <td>3596</td>\n",
       "      <td>5995</td>\n",
       "      <td>217728</td>\n",
       "      <td>1847</td>\n",
       "      <td>446340300</td>\n",
       "      <td>14032830291</td>\n",
       "      <td>263646</td>\n",
       "      <td>47720082</td>\n",
       "      <td>4876819</td>\n",
       "      <td>18593</td>\n",
       "    </tr>\n",
       "    <tr>\n",
       "      <th>...</th>\n",
       "      <td>...</td>\n",
       "      <td>...</td>\n",
       "      <td>...</td>\n",
       "      <td>...</td>\n",
       "      <td>...</td>\n",
       "      <td>...</td>\n",
       "      <td>...</td>\n",
       "      <td>...</td>\n",
       "      <td>...</td>\n",
       "      <td>...</td>\n",
       "      <td>...</td>\n",
       "      <td>...</td>\n",
       "      <td>...</td>\n",
       "    </tr>\n",
       "    <tr>\n",
       "      <th>80</th>\n",
       "      <td>AC</td>\n",
       "      <td>11010010</td>\n",
       "      <td>2020</td>\n",
       "      <td>47</td>\n",
       "      <td>70</td>\n",
       "      <td>441</td>\n",
       "      <td>49</td>\n",
       "      <td>6422500</td>\n",
       "      <td>308000</td>\n",
       "      <td>308000</td>\n",
       "      <td>95200</td>\n",
       "      <td>10400</td>\n",
       "      <td>0</td>\n",
       "    </tr>\n",
       "    <tr>\n",
       "      <th>81</th>\n",
       "      <td>EX</td>\n",
       "      <td>39092029</td>\n",
       "      <td>2021</td>\n",
       "      <td>5</td>\n",
       "      <td>10</td>\n",
       "      <td>249</td>\n",
       "      <td>9</td>\n",
       "      <td>717600</td>\n",
       "      <td>900</td>\n",
       "      <td>900</td>\n",
       "      <td>25049</td>\n",
       "      <td>784</td>\n",
       "      <td>0</td>\n",
       "    </tr>\n",
       "    <tr>\n",
       "      <th>82</th>\n",
       "      <td>EX</td>\n",
       "      <td>94059900</td>\n",
       "      <td>2021</td>\n",
       "      <td>5</td>\n",
       "      <td>20</td>\n",
       "      <td>490</td>\n",
       "      <td>8</td>\n",
       "      <td>1635200</td>\n",
       "      <td>160</td>\n",
       "      <td>160</td>\n",
       "      <td>9441</td>\n",
       "      <td>1535</td>\n",
       "      <td>0</td>\n",
       "    </tr>\n",
       "    <tr>\n",
       "      <th>83</th>\n",
       "      <td>EX</td>\n",
       "      <td>94041000</td>\n",
       "      <td>2021</td>\n",
       "      <td>1</td>\n",
       "      <td>10</td>\n",
       "      <td>764</td>\n",
       "      <td>1</td>\n",
       "      <td>817800</td>\n",
       "      <td>160</td>\n",
       "      <td>160</td>\n",
       "      <td>2420</td>\n",
       "      <td>1996</td>\n",
       "      <td>0</td>\n",
       "    </tr>\n",
       "    <tr>\n",
       "      <th>84</th>\n",
       "      <td>ND</td>\n",
       "      <td>27160000</td>\n",
       "      <td>2020</td>\n",
       "      <td>78</td>\n",
       "      <td>216</td>\n",
       "      <td>7032</td>\n",
       "      <td>96</td>\n",
       "      <td>119999988</td>\n",
       "      <td>0</td>\n",
       "      <td>0</td>\n",
       "      <td>1453966757</td>\n",
       "      <td>0</td>\n",
       "      <td>0</td>\n",
       "    </tr>\n",
       "  </tbody>\n",
       "</table>\n",
       "<p>85 rows × 13 columns</p>\n",
       "</div>"
      ],
      "text/plain": [
       "   SG_UF_NCM    CO_NCM  CO_ANO  CO_MES  CO_UNID  CO_PAIS  CO_VIA     CO_URF  \\\n",
       "0         AM  85322410    2021    3335     5401   191119    1268  166485320   \n",
       "1         AM  85322410    2020    3091     5225   191194    1186  172514708   \n",
       "2         AM  85332120    2021    2968     4851   160519    1122  146288508   \n",
       "3         SP  85322410    2020    3566     6050   218823    1819  450230200   \n",
       "4         SP  85322410    2021    3596     5995   217728    1847  446340300   \n",
       "..       ...       ...     ...     ...      ...      ...     ...        ...   \n",
       "80        AC  11010010    2020      47       70      441      49    6422500   \n",
       "81        EX  39092029    2021       5       10      249       9     717600   \n",
       "82        EX  94059900    2021       5       20      490       8    1635200   \n",
       "83        EX  94041000    2021       1       10      764       1     817800   \n",
       "84        ND  27160000    2020      78      216     7032      96  119999988   \n",
       "\n",
       "       QT_ESTAT  KG_LIQUIDO      VL_FOB  VL_FRETE  VL_SEGURO  \n",
       "0   27650352539      544744   124351940   7458201      44806  \n",
       "1   22248777967      454466    88747149   4917111      30288  \n",
       "2   19002954497      364587    33643771   4386315      13423  \n",
       "3   15895182710      250229    54668321   3785301      18057  \n",
       "4   14032830291      263646    47720082   4876819      18593  \n",
       "..          ...         ...         ...       ...        ...  \n",
       "80       308000      308000       95200     10400          0  \n",
       "81          900         900       25049       784          0  \n",
       "82          160         160        9441      1535          0  \n",
       "83          160         160        2420      1996          0  \n",
       "84            0           0  1453966757         0          0  \n",
       "\n",
       "[85 rows x 13 columns]"
      ]
     },
     "execution_count": 15,
     "metadata": {},
     "output_type": "execute_result"
    }
   ],
   "source": [
    "#Separamos os produtos por estados\n",
    "mais_importados = import_total.groupby(['SG_UF_NCM', 'CO_NCM', 'CO_ANO'], as_index=False).sum()\n",
    "\n",
    "#Colocamos a tabela na ordem da Quantidade de \"Kg Estatística\", em ordem decrescente, separado por estados e apenas os três primeiros\n",
    "mais_importados = mais_importados.sort_values(by='QT_ESTAT', ascending=False).groupby('SG_UF_NCM').head(3)\n",
    "\n",
    "#Apenas Retiramos a ordem (chamada de Index) listada anterior\n",
    "mais_importados = mais_importados.reset_index(drop=True)\n",
    "\n",
    "#Apenas para visualização\n",
    "mais_importados"
   ]
  },
  {
   "cell_type": "code",
   "execution_count": 16,
   "metadata": {},
   "outputs": [
    {
     "data": {
      "text/html": [
       "<div>\n",
       "<style scoped>\n",
       "    .dataframe tbody tr th:only-of-type {\n",
       "        vertical-align: middle;\n",
       "    }\n",
       "\n",
       "    .dataframe tbody tr th {\n",
       "        vertical-align: top;\n",
       "    }\n",
       "\n",
       "    .dataframe thead th {\n",
       "        text-align: right;\n",
       "    }\n",
       "</style>\n",
       "<table border=\"1\" class=\"dataframe\">\n",
       "  <thead>\n",
       "    <tr style=\"text-align: right;\">\n",
       "      <th></th>\n",
       "      <th>SG_UF_NCM</th>\n",
       "      <th>CO_NCM</th>\n",
       "      <th>CO_ANO</th>\n",
       "      <th>CO_MES</th>\n",
       "      <th>CO_UNID</th>\n",
       "      <th>CO_PAIS</th>\n",
       "      <th>CO_VIA</th>\n",
       "      <th>CO_URF</th>\n",
       "      <th>QT_ESTAT</th>\n",
       "      <th>KG_LIQUIDO</th>\n",
       "      <th>VL_FOB</th>\n",
       "    </tr>\n",
       "  </thead>\n",
       "  <tbody>\n",
       "    <tr>\n",
       "      <th>0</th>\n",
       "      <td>PA</td>\n",
       "      <td>26011100</td>\n",
       "      <td>2020</td>\n",
       "      <td>766</td>\n",
       "      <td>1220</td>\n",
       "      <td>43817</td>\n",
       "      <td>122</td>\n",
       "      <td>38784166</td>\n",
       "      <td>182977545000</td>\n",
       "      <td>182977545000</td>\n",
       "      <td>13968823345</td>\n",
       "    </tr>\n",
       "    <tr>\n",
       "      <th>1</th>\n",
       "      <td>PA</td>\n",
       "      <td>26011100</td>\n",
       "      <td>2021</td>\n",
       "      <td>793</td>\n",
       "      <td>1300</td>\n",
       "      <td>43319</td>\n",
       "      <td>132</td>\n",
       "      <td>41027081</td>\n",
       "      <td>175978859480</td>\n",
       "      <td>175978859480</td>\n",
       "      <td>21765587199</td>\n",
       "    </tr>\n",
       "    <tr>\n",
       "      <th>2</th>\n",
       "      <td>MG</td>\n",
       "      <td>26011100</td>\n",
       "      <td>2021</td>\n",
       "      <td>1559</td>\n",
       "      <td>2440</td>\n",
       "      <td>79563</td>\n",
       "      <td>322</td>\n",
       "      <td>178316101</td>\n",
       "      <td>146968522569</td>\n",
       "      <td>146968512569</td>\n",
       "      <td>18217537605</td>\n",
       "    </tr>\n",
       "    <tr>\n",
       "      <th>3</th>\n",
       "      <td>MG</td>\n",
       "      <td>26011100</td>\n",
       "      <td>2020</td>\n",
       "      <td>1498</td>\n",
       "      <td>2190</td>\n",
       "      <td>70044</td>\n",
       "      <td>296</td>\n",
       "      <td>159548256</td>\n",
       "      <td>126895336623</td>\n",
       "      <td>126895336623</td>\n",
       "      <td>9826864844</td>\n",
       "    </tr>\n",
       "    <tr>\n",
       "      <th>4</th>\n",
       "      <td>RS</td>\n",
       "      <td>71039900</td>\n",
       "      <td>2021</td>\n",
       "      <td>4570</td>\n",
       "      <td>12426</td>\n",
       "      <td>236765</td>\n",
       "      <td>1650</td>\n",
       "      <td>578843105</td>\n",
       "      <td>49133339972</td>\n",
       "      <td>9827239</td>\n",
       "      <td>77892704</td>\n",
       "    </tr>\n",
       "    <tr>\n",
       "      <th>...</th>\n",
       "      <td>...</td>\n",
       "      <td>...</td>\n",
       "      <td>...</td>\n",
       "      <td>...</td>\n",
       "      <td>...</td>\n",
       "      <td>...</td>\n",
       "      <td>...</td>\n",
       "      <td>...</td>\n",
       "      <td>...</td>\n",
       "      <td>...</td>\n",
       "      <td>...</td>\n",
       "    </tr>\n",
       "    <tr>\n",
       "      <th>79</th>\n",
       "      <td>AL</td>\n",
       "      <td>22071090</td>\n",
       "      <td>2020</td>\n",
       "      <td>49</td>\n",
       "      <td>85</td>\n",
       "      <td>3222</td>\n",
       "      <td>5</td>\n",
       "      <td>2089510</td>\n",
       "      <td>13497135</td>\n",
       "      <td>10868340</td>\n",
       "      <td>7362665</td>\n",
       "    </tr>\n",
       "    <tr>\n",
       "      <th>80</th>\n",
       "      <td>PI</td>\n",
       "      <td>4090000</td>\n",
       "      <td>2021</td>\n",
       "      <td>556</td>\n",
       "      <td>850</td>\n",
       "      <td>16982</td>\n",
       "      <td>85</td>\n",
       "      <td>56613800</td>\n",
       "      <td>11909613</td>\n",
       "      <td>11928988</td>\n",
       "      <td>42078641</td>\n",
       "    </tr>\n",
       "    <tr>\n",
       "      <th>81</th>\n",
       "      <td>AC</td>\n",
       "      <td>10059010</td>\n",
       "      <td>2020</td>\n",
       "      <td>64</td>\n",
       "      <td>80</td>\n",
       "      <td>4712</td>\n",
       "      <td>56</td>\n",
       "      <td>1841232</td>\n",
       "      <td>7552200</td>\n",
       "      <td>7431700</td>\n",
       "      <td>1466218</td>\n",
       "    </tr>\n",
       "    <tr>\n",
       "      <th>82</th>\n",
       "      <td>AC</td>\n",
       "      <td>8012100</td>\n",
       "      <td>2021</td>\n",
       "      <td>105</td>\n",
       "      <td>180</td>\n",
       "      <td>7158</td>\n",
       "      <td>126</td>\n",
       "      <td>4202767</td>\n",
       "      <td>5972994</td>\n",
       "      <td>5956061</td>\n",
       "      <td>7398934</td>\n",
       "    </tr>\n",
       "    <tr>\n",
       "      <th>83</th>\n",
       "      <td>AC</td>\n",
       "      <td>10059010</td>\n",
       "      <td>2021</td>\n",
       "      <td>63</td>\n",
       "      <td>100</td>\n",
       "      <td>5890</td>\n",
       "      <td>70</td>\n",
       "      <td>2301540</td>\n",
       "      <td>4218890</td>\n",
       "      <td>4218890</td>\n",
       "      <td>718744</td>\n",
       "    </tr>\n",
       "  </tbody>\n",
       "</table>\n",
       "<p>84 rows × 11 columns</p>\n",
       "</div>"
      ],
      "text/plain": [
       "   SG_UF_NCM    CO_NCM  CO_ANO  CO_MES  CO_UNID  CO_PAIS  CO_VIA     CO_URF  \\\n",
       "0         PA  26011100    2020     766     1220    43817     122   38784166   \n",
       "1         PA  26011100    2021     793     1300    43319     132   41027081   \n",
       "2         MG  26011100    2021    1559     2440    79563     322  178316101   \n",
       "3         MG  26011100    2020    1498     2190    70044     296  159548256   \n",
       "4         RS  71039900    2021    4570    12426   236765    1650  578843105   \n",
       "..       ...       ...     ...     ...      ...      ...     ...        ...   \n",
       "79        AL  22071090    2020      49       85     3222       5    2089510   \n",
       "80        PI   4090000    2021     556      850    16982      85   56613800   \n",
       "81        AC  10059010    2020      64       80     4712      56    1841232   \n",
       "82        AC   8012100    2021     105      180     7158     126    4202767   \n",
       "83        AC  10059010    2021      63      100     5890      70    2301540   \n",
       "\n",
       "        QT_ESTAT    KG_LIQUIDO       VL_FOB  \n",
       "0   182977545000  182977545000  13968823345  \n",
       "1   175978859480  175978859480  21765587199  \n",
       "2   146968522569  146968512569  18217537605  \n",
       "3   126895336623  126895336623   9826864844  \n",
       "4    49133339972       9827239     77892704  \n",
       "..           ...           ...          ...  \n",
       "79      13497135      10868340      7362665  \n",
       "80      11909613      11928988     42078641  \n",
       "81       7552200       7431700      1466218  \n",
       "82       5972994       5956061      7398934  \n",
       "83       4218890       4218890       718744  \n",
       "\n",
       "[84 rows x 11 columns]"
      ]
     },
     "execution_count": 16,
     "metadata": {},
     "output_type": "execute_result"
    }
   ],
   "source": [
    "#Realizando a mesma função nos itens exportados\n",
    "#Separamos os produtos por estados\n",
    "mais_exportados = export_total.groupby(['SG_UF_NCM', 'CO_NCM', 'CO_ANO'], as_index=False).sum()\n",
    "\n",
    "#Colocamos a tabela na ordem da Quantidade de \"Kg Estatística\", em ordem decrescente, separado por estados e apenas os três primeiros\n",
    "mais_exportados = mais_exportados.sort_values(by='QT_ESTAT', ascending=False).groupby('SG_UF_NCM').head(3)\n",
    "\n",
    "#Apenas Retiramos a ordem listada anterior\n",
    "mais_exportados = mais_exportados.reset_index(drop=True)\n",
    "\n",
    "#Apenas visualização\n",
    "mais_exportados"
   ]
  },
  {
   "cell_type": "code",
   "execution_count": 18,
   "metadata": {},
   "outputs": [],
   "source": [
    "#Renomeando as tabelas para os nomes presentes no site de referência\n",
    "\n",
    "mais_importados.rename(columns={\n",
    "\n",
    "    'CO_ANO'        :   'Ano' ,\n",
    "    'CO_MES'        :   'Mes',\n",
    "    'CO_NCM'        :   'Cod. NCM',\n",
    "    'CO_UNID'       :   'Cod. Unid. Estatistica',\n",
    "    'CO_PAIS'       :   'Cod. pais destino/origem',\n",
    "    'SG_UF_NCM'     :   'Cod. UF origem/destino',\n",
    "    'CO_VIA'        :   'Cod. via transporte',\n",
    "    'CO_URF'        :   'Cod. URF embarque/desembarque',\n",
    "    'QT_ESTAT'      :   'Kg estatistica',\n",
    "    'KG_LIQUIDO'    :   'Kg liquido',\n",
    "    'VL_FOB'        :   'Valor FOB (US$)',\n",
    "    'VL_FRETE'      :   'Valor Frete',\n",
    "    'VL_SEGURO'     :   'Valor Seguro'\n",
    "\n",
    "}, inplace= True)\n",
    "\n",
    "mais_exportados.rename(columns={\n",
    "\n",
    "    'CO_ANO'        :   'Ano' ,\n",
    "    'CO_MES'        :   'Mes',\n",
    "    'CO_NCM'        :   'Cod. NCM',\n",
    "    'CO_UNID'       :   'Cod. Unid. Estatistica',\n",
    "    'CO_PAIS'       :   'Cod. pais destino/origem',\n",
    "    'SG_UF_NCM'     :   'Cod. UF origem/destino',\n",
    "    'CO_VIA'        :   'Cod. via transporte',\n",
    "    'CO_URF'        :   'Cod. URF embarque/desembarque',\n",
    "    'QT_ESTAT'      :   'Kg estatistica',\n",
    "    'KG_LIQUIDO'    :   'Kg liquido',\n",
    "    'VL_FOB'        :   'Valor FOB (US$)',\n",
    "    'VL_FRETE'      :   'Valor Frete',\n",
    "    'VL_SEGURO'     :   'Valor Seguro'\n",
    "\n",
    "}, inplace= True)\n"
   ]
  },
  {
   "cell_type": "code",
   "execution_count": 22,
   "metadata": {},
   "outputs": [],
   "source": [
    "#Realizando todo o processo para a terceira tabela: Exportações por mês e estado do ano de 2021\n",
    "#Iremos utilizar a tabela de exportações de 2021 para a realização desta parte\n",
    "#Criei uma nova variável com o a tabela de exportações de 2021 por organização e facilitar o entendimento\n",
    "expMes = pd.read_csv('EXP_2021.csv', sep = ';')\n",
    "\n",
    "#Subdividindo a tabela de acordo com o estado, o mês e o cód. do produto\n",
    "expMes = expMes.groupby(['SG_UF_NCM', 'CO_MES',  'CO_NCM' ], as_index=False).sum()\n",
    "\n",
    "#Dessa vez utilizando como referência o mês ao inves do ano\n",
    "expMes = expMes.sort_values(by=['QT_ESTAT', 'CO_MES' ], ascending=False).groupby('SG_UF_NCM').head(3)\n",
    "\n",
    "#Apenas refazendo o index dessa base de dados\n",
    "expMes = expMes.reset_index(drop=True)\n",
    "\n",
    "#Renomeando as colunas de acordo com o site de referência para melhor entendimento\n",
    "expMes.rename(columns={\n",
    "\n",
    "    'CO_ANO'        :   'Ano' ,\n",
    "    'CO_MES'        :   'Mes',\n",
    "    'CO_NCM'        :   'Cod. NCM',\n",
    "    'CO_UNID'       :   'Cod. Unid. Estatistica',\n",
    "    'CO_PAIS'       :   'Cod. pais destino/origem',\n",
    "    'SG_UF_NCM'     :   'Cod. UF origem/destino',\n",
    "    'CO_VIA'        :   'Cod. via transporte',\n",
    "    'CO_URF'        :   'Cod. URF embarque/desembarque',\n",
    "    'QT_ESTAT'      :   'Kg estatistica',\n",
    "    'KG_LIQUIDO'    :   'Kg liquido',\n",
    "    'VL_FOB'        :   'Valor FOB (US$)',\n",
    "    'VL_FRETE'      :   'Valor Frete',\n",
    "    'VL_SEGURO'     :   'Valor Seguro'\n",
    "\n",
    "}, inplace= True)"
   ]
  },
  {
   "cell_type": "code",
   "execution_count": 24,
   "metadata": {},
   "outputs": [],
   "source": [
    "#Criando os gráficos\n",
    "# Gráfico de barras para os top 3 produtos mais importados por estado nos anos de 2020 e 2021\n",
    "fig_importacao = px.bar(mais_importados, x='Cod. UF origem/destino', y='Cod. NCM', color = 'Kg estatistica', title='Top 3 Produtos Mais Importados por Estado')\n",
    "\n",
    "# Gráfico de barras para os top 3 produtos mais exportados por estado nos anos de 2020 e 2021\n",
    "fig_exportacao = px.bar(mais_exportados, x='Cod. UF origem/destino', y='Cod. NCM', color = 'Kg estatistica', title='Top 3 Produtos Mais Exportados por Estado')\n",
    "\n",
    "# Gráfico de barras para os top 3 produtos mais importados por estado nos anos de 2020 e 2021\n",
    "fig_expMes = px.bar(expMes, x='Cod. UF origem/destino', y='Cod. NCM', color = 'Kg estatistica', title='Top 3 Produtos Mais Exportados por mês de 2021 por Estado')\n"
   ]
  },
  {
   "cell_type": "code",
   "execution_count": 25,
   "metadata": {},
   "outputs": [
    {
     "data": {
      "application/vnd.plotly.v1+json": {
       "config": {
        "plotlyServerURL": "https://plot.ly"
       },
       "data": [
        {
         "alignmentgroup": "True",
         "hovertemplate": "Cod. UF origem/destino=%{x}<br>Cod. NCM=%{y}<br>Kg estatistica=%{marker.color}<extra></extra>",
         "legendgroup": "",
         "marker": {
          "color": [
           27650352539,
           22248777967,
           19002954497,
           15895182710,
           14032830291,
           8406510489,
           5438765818,
           5064589045,
           4826356067,
           4711892752,
           4250320835,
           4120649393,
           3985224388,
           3918742271,
           3691293903,
           3488445902,
           3343466131,
           3330103847,
           3077045696,
           2945164553,
           2511437386,
           1960081569,
           1877236630,
           1801428782,
           1673324770,
           1477820769,
           1442949784,
           1440327796,
           1380115342,
           1356228452,
           1337250707,
           1259899018,
           1243072535,
           1187749873,
           1167964542,
           1138301448,
           1019321061,
           870038102,
           841881137,
           838413795,
           813772890,
           806236019,
           767713940,
           710764602,
           694339653,
           680348853,
           652113164,
           522599387,
           483151934,
           370564971,
           310315241,
           291738400,
           283832319,
           272304562,
           235639759,
           235243013,
           225015726,
           223225691,
           183838487,
           169562190,
           156451344,
           155658129,
           110450630,
           106675940,
           106418034,
           88173497,
           83055564,
           66915818,
           59858560,
           46800000,
           46344890,
           39689450,
           32934523,
           23764559,
           18744995,
           9500000,
           8340191,
           2500000,
           360000,
           320000,
           308000,
           900,
           160,
           160,
           0
          ],
          "coloraxis": "coloraxis",
          "pattern": {
           "shape": ""
          }
         },
         "name": "",
         "offsetgroup": "",
         "orientation": "v",
         "showlegend": false,
         "textposition": "auto",
         "type": "bar",
         "x": [
          "AM",
          "AM",
          "AM",
          "SP",
          "SP",
          "SP",
          "MS",
          "ES",
          "MS",
          "CE",
          "MG",
          "RJ",
          "ES",
          "RJ",
          "RJ",
          "SC",
          "CE",
          "MG",
          "MT",
          "SC",
          "MT",
          "BA",
          "RS",
          "RS",
          "PR",
          "PR",
          "SC",
          "PR",
          "MA",
          "MT",
          "MG",
          "RS",
          "PE",
          "PE",
          "CE",
          "GO",
          "GO",
          "ES",
          "MA",
          "BA",
          "PA",
          "PA",
          "MA",
          "BA",
          "PE",
          "PA",
          "GO",
          "PB",
          "MS",
          "AL",
          "RO",
          "DF",
          "RN",
          "PB",
          "PB",
          "DF",
          "AL",
          "RN",
          "DF",
          "RN",
          "AL",
          "SE",
          "SE",
          "SE",
          "TO",
          "TO",
          "TO",
          "PI",
          "PI",
          "RO",
          "PI",
          "RO",
          "AP",
          "AP",
          "AP",
          "RR",
          "RR",
          "RR",
          "AC",
          "AC",
          "AC",
          "EX",
          "EX",
          "EX",
          "ND"
         ],
         "xaxis": "x",
         "y": [
          85322410,
          85322410,
          85332120,
          85322410,
          85322410,
          85332120,
          27112100,
          27011200,
          27112100,
          27011200,
          27011200,
          27111100,
          27011200,
          27011200,
          27011200,
          40151900,
          27011200,
          27011200,
          31042090,
          40151900,
          31042090,
          27111100,
          31042090,
          31042090,
          10059010,
          31042090,
          31021010,
          31042090,
          27011200,
          31021010,
          85322410,
          31021010,
          27111290,
          27111290,
          10019900,
          31042090,
          31042090,
          27011100,
          27011200,
          10019900,
          27011200,
          27011200,
          28151200,
          10019900,
          10019900,
          28151200,
          31021010,
          27131100,
          31042090,
          25010019,
          85065010,
          90183190,
          10019900,
          27131100,
          10019900,
          27131100,
          29031500,
          10019900,
          27131100,
          27131100,
          29031500,
          27111100,
          10019900,
          85369090,
          27079990,
          31042090,
          31042090,
          72083990,
          10019900,
          90183999,
          10019900,
          31042090,
          27101999,
          27101999,
          10011900,
          31042090,
          31056000,
          31031900,
          28332960,
          32029011,
          11010010,
          39092029,
          94059900,
          94041000,
          27160000
         ],
         "yaxis": "y"
        }
       ],
       "layout": {
        "barmode": "relative",
        "coloraxis": {
         "colorbar": {
          "title": {
           "text": "Kg estatistica"
          }
         },
         "colorscale": [
          [
           0,
           "#0d0887"
          ],
          [
           0.1111111111111111,
           "#46039f"
          ],
          [
           0.2222222222222222,
           "#7201a8"
          ],
          [
           0.3333333333333333,
           "#9c179e"
          ],
          [
           0.4444444444444444,
           "#bd3786"
          ],
          [
           0.5555555555555556,
           "#d8576b"
          ],
          [
           0.6666666666666666,
           "#ed7953"
          ],
          [
           0.7777777777777778,
           "#fb9f3a"
          ],
          [
           0.8888888888888888,
           "#fdca26"
          ],
          [
           1,
           "#f0f921"
          ]
         ]
        },
        "legend": {
         "tracegroupgap": 0
        },
        "template": {
         "data": {
          "bar": [
           {
            "error_x": {
             "color": "#2a3f5f"
            },
            "error_y": {
             "color": "#2a3f5f"
            },
            "marker": {
             "line": {
              "color": "#E5ECF6",
              "width": 0.5
             },
             "pattern": {
              "fillmode": "overlay",
              "size": 10,
              "solidity": 0.2
             }
            },
            "type": "bar"
           }
          ],
          "barpolar": [
           {
            "marker": {
             "line": {
              "color": "#E5ECF6",
              "width": 0.5
             },
             "pattern": {
              "fillmode": "overlay",
              "size": 10,
              "solidity": 0.2
             }
            },
            "type": "barpolar"
           }
          ],
          "carpet": [
           {
            "aaxis": {
             "endlinecolor": "#2a3f5f",
             "gridcolor": "white",
             "linecolor": "white",
             "minorgridcolor": "white",
             "startlinecolor": "#2a3f5f"
            },
            "baxis": {
             "endlinecolor": "#2a3f5f",
             "gridcolor": "white",
             "linecolor": "white",
             "minorgridcolor": "white",
             "startlinecolor": "#2a3f5f"
            },
            "type": "carpet"
           }
          ],
          "choropleth": [
           {
            "colorbar": {
             "outlinewidth": 0,
             "ticks": ""
            },
            "type": "choropleth"
           }
          ],
          "contour": [
           {
            "colorbar": {
             "outlinewidth": 0,
             "ticks": ""
            },
            "colorscale": [
             [
              0,
              "#0d0887"
             ],
             [
              0.1111111111111111,
              "#46039f"
             ],
             [
              0.2222222222222222,
              "#7201a8"
             ],
             [
              0.3333333333333333,
              "#9c179e"
             ],
             [
              0.4444444444444444,
              "#bd3786"
             ],
             [
              0.5555555555555556,
              "#d8576b"
             ],
             [
              0.6666666666666666,
              "#ed7953"
             ],
             [
              0.7777777777777778,
              "#fb9f3a"
             ],
             [
              0.8888888888888888,
              "#fdca26"
             ],
             [
              1,
              "#f0f921"
             ]
            ],
            "type": "contour"
           }
          ],
          "contourcarpet": [
           {
            "colorbar": {
             "outlinewidth": 0,
             "ticks": ""
            },
            "type": "contourcarpet"
           }
          ],
          "heatmap": [
           {
            "colorbar": {
             "outlinewidth": 0,
             "ticks": ""
            },
            "colorscale": [
             [
              0,
              "#0d0887"
             ],
             [
              0.1111111111111111,
              "#46039f"
             ],
             [
              0.2222222222222222,
              "#7201a8"
             ],
             [
              0.3333333333333333,
              "#9c179e"
             ],
             [
              0.4444444444444444,
              "#bd3786"
             ],
             [
              0.5555555555555556,
              "#d8576b"
             ],
             [
              0.6666666666666666,
              "#ed7953"
             ],
             [
              0.7777777777777778,
              "#fb9f3a"
             ],
             [
              0.8888888888888888,
              "#fdca26"
             ],
             [
              1,
              "#f0f921"
             ]
            ],
            "type": "heatmap"
           }
          ],
          "heatmapgl": [
           {
            "colorbar": {
             "outlinewidth": 0,
             "ticks": ""
            },
            "colorscale": [
             [
              0,
              "#0d0887"
             ],
             [
              0.1111111111111111,
              "#46039f"
             ],
             [
              0.2222222222222222,
              "#7201a8"
             ],
             [
              0.3333333333333333,
              "#9c179e"
             ],
             [
              0.4444444444444444,
              "#bd3786"
             ],
             [
              0.5555555555555556,
              "#d8576b"
             ],
             [
              0.6666666666666666,
              "#ed7953"
             ],
             [
              0.7777777777777778,
              "#fb9f3a"
             ],
             [
              0.8888888888888888,
              "#fdca26"
             ],
             [
              1,
              "#f0f921"
             ]
            ],
            "type": "heatmapgl"
           }
          ],
          "histogram": [
           {
            "marker": {
             "pattern": {
              "fillmode": "overlay",
              "size": 10,
              "solidity": 0.2
             }
            },
            "type": "histogram"
           }
          ],
          "histogram2d": [
           {
            "colorbar": {
             "outlinewidth": 0,
             "ticks": ""
            },
            "colorscale": [
             [
              0,
              "#0d0887"
             ],
             [
              0.1111111111111111,
              "#46039f"
             ],
             [
              0.2222222222222222,
              "#7201a8"
             ],
             [
              0.3333333333333333,
              "#9c179e"
             ],
             [
              0.4444444444444444,
              "#bd3786"
             ],
             [
              0.5555555555555556,
              "#d8576b"
             ],
             [
              0.6666666666666666,
              "#ed7953"
             ],
             [
              0.7777777777777778,
              "#fb9f3a"
             ],
             [
              0.8888888888888888,
              "#fdca26"
             ],
             [
              1,
              "#f0f921"
             ]
            ],
            "type": "histogram2d"
           }
          ],
          "histogram2dcontour": [
           {
            "colorbar": {
             "outlinewidth": 0,
             "ticks": ""
            },
            "colorscale": [
             [
              0,
              "#0d0887"
             ],
             [
              0.1111111111111111,
              "#46039f"
             ],
             [
              0.2222222222222222,
              "#7201a8"
             ],
             [
              0.3333333333333333,
              "#9c179e"
             ],
             [
              0.4444444444444444,
              "#bd3786"
             ],
             [
              0.5555555555555556,
              "#d8576b"
             ],
             [
              0.6666666666666666,
              "#ed7953"
             ],
             [
              0.7777777777777778,
              "#fb9f3a"
             ],
             [
              0.8888888888888888,
              "#fdca26"
             ],
             [
              1,
              "#f0f921"
             ]
            ],
            "type": "histogram2dcontour"
           }
          ],
          "mesh3d": [
           {
            "colorbar": {
             "outlinewidth": 0,
             "ticks": ""
            },
            "type": "mesh3d"
           }
          ],
          "parcoords": [
           {
            "line": {
             "colorbar": {
              "outlinewidth": 0,
              "ticks": ""
             }
            },
            "type": "parcoords"
           }
          ],
          "pie": [
           {
            "automargin": true,
            "type": "pie"
           }
          ],
          "scatter": [
           {
            "fillpattern": {
             "fillmode": "overlay",
             "size": 10,
             "solidity": 0.2
            },
            "type": "scatter"
           }
          ],
          "scatter3d": [
           {
            "line": {
             "colorbar": {
              "outlinewidth": 0,
              "ticks": ""
             }
            },
            "marker": {
             "colorbar": {
              "outlinewidth": 0,
              "ticks": ""
             }
            },
            "type": "scatter3d"
           }
          ],
          "scattercarpet": [
           {
            "marker": {
             "colorbar": {
              "outlinewidth": 0,
              "ticks": ""
             }
            },
            "type": "scattercarpet"
           }
          ],
          "scattergeo": [
           {
            "marker": {
             "colorbar": {
              "outlinewidth": 0,
              "ticks": ""
             }
            },
            "type": "scattergeo"
           }
          ],
          "scattergl": [
           {
            "marker": {
             "colorbar": {
              "outlinewidth": 0,
              "ticks": ""
             }
            },
            "type": "scattergl"
           }
          ],
          "scattermapbox": [
           {
            "marker": {
             "colorbar": {
              "outlinewidth": 0,
              "ticks": ""
             }
            },
            "type": "scattermapbox"
           }
          ],
          "scatterpolar": [
           {
            "marker": {
             "colorbar": {
              "outlinewidth": 0,
              "ticks": ""
             }
            },
            "type": "scatterpolar"
           }
          ],
          "scatterpolargl": [
           {
            "marker": {
             "colorbar": {
              "outlinewidth": 0,
              "ticks": ""
             }
            },
            "type": "scatterpolargl"
           }
          ],
          "scatterternary": [
           {
            "marker": {
             "colorbar": {
              "outlinewidth": 0,
              "ticks": ""
             }
            },
            "type": "scatterternary"
           }
          ],
          "surface": [
           {
            "colorbar": {
             "outlinewidth": 0,
             "ticks": ""
            },
            "colorscale": [
             [
              0,
              "#0d0887"
             ],
             [
              0.1111111111111111,
              "#46039f"
             ],
             [
              0.2222222222222222,
              "#7201a8"
             ],
             [
              0.3333333333333333,
              "#9c179e"
             ],
             [
              0.4444444444444444,
              "#bd3786"
             ],
             [
              0.5555555555555556,
              "#d8576b"
             ],
             [
              0.6666666666666666,
              "#ed7953"
             ],
             [
              0.7777777777777778,
              "#fb9f3a"
             ],
             [
              0.8888888888888888,
              "#fdca26"
             ],
             [
              1,
              "#f0f921"
             ]
            ],
            "type": "surface"
           }
          ],
          "table": [
           {
            "cells": {
             "fill": {
              "color": "#EBF0F8"
             },
             "line": {
              "color": "white"
             }
            },
            "header": {
             "fill": {
              "color": "#C8D4E3"
             },
             "line": {
              "color": "white"
             }
            },
            "type": "table"
           }
          ]
         },
         "layout": {
          "annotationdefaults": {
           "arrowcolor": "#2a3f5f",
           "arrowhead": 0,
           "arrowwidth": 1
          },
          "autotypenumbers": "strict",
          "coloraxis": {
           "colorbar": {
            "outlinewidth": 0,
            "ticks": ""
           }
          },
          "colorscale": {
           "diverging": [
            [
             0,
             "#8e0152"
            ],
            [
             0.1,
             "#c51b7d"
            ],
            [
             0.2,
             "#de77ae"
            ],
            [
             0.3,
             "#f1b6da"
            ],
            [
             0.4,
             "#fde0ef"
            ],
            [
             0.5,
             "#f7f7f7"
            ],
            [
             0.6,
             "#e6f5d0"
            ],
            [
             0.7,
             "#b8e186"
            ],
            [
             0.8,
             "#7fbc41"
            ],
            [
             0.9,
             "#4d9221"
            ],
            [
             1,
             "#276419"
            ]
           ],
           "sequential": [
            [
             0,
             "#0d0887"
            ],
            [
             0.1111111111111111,
             "#46039f"
            ],
            [
             0.2222222222222222,
             "#7201a8"
            ],
            [
             0.3333333333333333,
             "#9c179e"
            ],
            [
             0.4444444444444444,
             "#bd3786"
            ],
            [
             0.5555555555555556,
             "#d8576b"
            ],
            [
             0.6666666666666666,
             "#ed7953"
            ],
            [
             0.7777777777777778,
             "#fb9f3a"
            ],
            [
             0.8888888888888888,
             "#fdca26"
            ],
            [
             1,
             "#f0f921"
            ]
           ],
           "sequentialminus": [
            [
             0,
             "#0d0887"
            ],
            [
             0.1111111111111111,
             "#46039f"
            ],
            [
             0.2222222222222222,
             "#7201a8"
            ],
            [
             0.3333333333333333,
             "#9c179e"
            ],
            [
             0.4444444444444444,
             "#bd3786"
            ],
            [
             0.5555555555555556,
             "#d8576b"
            ],
            [
             0.6666666666666666,
             "#ed7953"
            ],
            [
             0.7777777777777778,
             "#fb9f3a"
            ],
            [
             0.8888888888888888,
             "#fdca26"
            ],
            [
             1,
             "#f0f921"
            ]
           ]
          },
          "colorway": [
           "#636efa",
           "#EF553B",
           "#00cc96",
           "#ab63fa",
           "#FFA15A",
           "#19d3f3",
           "#FF6692",
           "#B6E880",
           "#FF97FF",
           "#FECB52"
          ],
          "font": {
           "color": "#2a3f5f"
          },
          "geo": {
           "bgcolor": "white",
           "lakecolor": "white",
           "landcolor": "#E5ECF6",
           "showlakes": true,
           "showland": true,
           "subunitcolor": "white"
          },
          "hoverlabel": {
           "align": "left"
          },
          "hovermode": "closest",
          "mapbox": {
           "style": "light"
          },
          "paper_bgcolor": "white",
          "plot_bgcolor": "#E5ECF6",
          "polar": {
           "angularaxis": {
            "gridcolor": "white",
            "linecolor": "white",
            "ticks": ""
           },
           "bgcolor": "#E5ECF6",
           "radialaxis": {
            "gridcolor": "white",
            "linecolor": "white",
            "ticks": ""
           }
          },
          "scene": {
           "xaxis": {
            "backgroundcolor": "#E5ECF6",
            "gridcolor": "white",
            "gridwidth": 2,
            "linecolor": "white",
            "showbackground": true,
            "ticks": "",
            "zerolinecolor": "white"
           },
           "yaxis": {
            "backgroundcolor": "#E5ECF6",
            "gridcolor": "white",
            "gridwidth": 2,
            "linecolor": "white",
            "showbackground": true,
            "ticks": "",
            "zerolinecolor": "white"
           },
           "zaxis": {
            "backgroundcolor": "#E5ECF6",
            "gridcolor": "white",
            "gridwidth": 2,
            "linecolor": "white",
            "showbackground": true,
            "ticks": "",
            "zerolinecolor": "white"
           }
          },
          "shapedefaults": {
           "line": {
            "color": "#2a3f5f"
           }
          },
          "ternary": {
           "aaxis": {
            "gridcolor": "white",
            "linecolor": "white",
            "ticks": ""
           },
           "baxis": {
            "gridcolor": "white",
            "linecolor": "white",
            "ticks": ""
           },
           "bgcolor": "#E5ECF6",
           "caxis": {
            "gridcolor": "white",
            "linecolor": "white",
            "ticks": ""
           }
          },
          "title": {
           "x": 0.05
          },
          "xaxis": {
           "automargin": true,
           "gridcolor": "white",
           "linecolor": "white",
           "ticks": "",
           "title": {
            "standoff": 15
           },
           "zerolinecolor": "white",
           "zerolinewidth": 2
          },
          "yaxis": {
           "automargin": true,
           "gridcolor": "white",
           "linecolor": "white",
           "ticks": "",
           "title": {
            "standoff": 15
           },
           "zerolinecolor": "white",
           "zerolinewidth": 2
          }
         }
        },
        "title": {
         "text": "Top 3 Produtos Mais Importados por Estado"
        },
        "xaxis": {
         "anchor": "y",
         "domain": [
          0,
          1
         ],
         "title": {
          "text": "Cod. UF origem/destino"
         }
        },
        "yaxis": {
         "anchor": "x",
         "domain": [
          0,
          1
         ],
         "title": {
          "text": "Cod. NCM"
         }
        }
       }
      }
     },
     "metadata": {},
     "output_type": "display_data"
    }
   ],
   "source": [
    "#Apenas o primeiro gráfico, Top 3 importações por estado no ano de 2020 e 2021\n",
    "fig_importacao.show()"
   ]
  },
  {
   "cell_type": "code",
   "execution_count": 26,
   "metadata": {},
   "outputs": [
    {
     "data": {
      "application/vnd.plotly.v1+json": {
       "config": {
        "plotlyServerURL": "https://plot.ly"
       },
       "data": [
        {
         "alignmentgroup": "True",
         "hovertemplate": "Cod. UF origem/destino=%{x}<br>Cod. NCM=%{y}<br>Kg estatistica=%{marker.color}<extra></extra>",
         "legendgroup": "",
         "marker": {
          "color": [
           182977545000,
           175978859480,
           146968522569,
           126895336623,
           49133339972,
           32536543754,
           22027991286,
           16279484110,
           15321949898,
           12934538100,
           11513145128,
           8940804265,
           5148568000,
           4538135492,
           4113815087,
           3964313829,
           3918955500,
           3625991000,
           3594032000,
           2820282854,
           2738698708,
           2680637099,
           2525155102,
           2472412936,
           2206269352,
           1911501968,
           1884187940,
           1868327070,
           1764038092,
           1676445313,
           1660121808,
           1560968699,
           1495368803,
           1350090128,
           1211209039,
           1038450237,
           989927386,
           928474861,
           791108530,
           751865147,
           742882820,
           683513177,
           598871260,
           596515151,
           589249960,
           532266023,
           518200000,
           510799814,
           485807306,
           347102930,
           338790950,
           299704773,
           280354244,
           260174358,
           239925848,
           234939540,
           229602368,
           204959903,
           172913923,
           156380040,
           144346217,
           140628520,
           134777463,
           123008925,
           72016748,
           59336999,
           44245296,
           39976133,
           39070102,
           33239053,
           29090217,
           28528450,
           28045589,
           24818059,
           24128152,
           19333880,
           16572759,
           15366834,
           14111047,
           13497135,
           11909613,
           7552200,
           5972994,
           4218890
          ],
          "coloraxis": "coloraxis",
          "pattern": {
           "shape": ""
          }
         },
         "name": "",
         "offsetgroup": "",
         "orientation": "v",
         "showlegend": false,
         "textposition": "auto",
         "type": "bar",
         "x": [
          "PA",
          "PA",
          "MG",
          "MG",
          "RS",
          "RS",
          "MT",
          "ES",
          "MT",
          "RJ",
          "ES",
          "RJ",
          "PA",
          "MS",
          "MS",
          "GO",
          "MA",
          "MA",
          "MA",
          "MS",
          "RJ",
          "MG",
          "BA",
          "BA",
          "CE",
          "CE",
          "PR",
          "ES",
          "RS",
          "SP",
          "SP",
          "SP",
          "RN",
          "PR",
          "PR",
          "GO",
          "BA",
          "AP",
          "ND",
          "TO",
          "SC",
          "SC",
          "AP",
          "TO",
          "AP",
          "RN",
          "ND",
          "SC",
          "ND",
          "CE",
          "MT",
          "PI",
          "PI",
          "AM",
          "GO",
          "PE",
          "AM",
          "RO",
          "RN",
          "PE",
          "RO",
          "RO",
          "PE",
          "AM",
          "TO",
          "SE",
          "DF",
          "PB",
          "PB",
          "PB",
          "DF",
          "RR",
          "RR",
          "AL",
          "DF",
          "RR",
          "SE",
          "SE",
          "AL",
          "AL",
          "PI",
          "AC",
          "AC",
          "AC"
         ],
         "xaxis": "x",
         "y": [
          26011100,
          26011100,
          26011100,
          26011100,
          71039900,
          71039900,
          10059010,
          26011210,
          10059010,
          26011100,
          26011210,
          26011100,
          26060011,
          47032900,
          47032900,
          10059010,
          28182010,
          28182010,
          26011210,
          26011100,
          72071200,
          72011000,
          47032900,
          47032900,
          72071200,
          72071200,
          10059010,
          47032900,
          47032900,
          47032900,
          71039900,
          47032900,
          25010011,
          2071400,
          2071400,
          10059010,
          26011100,
          26011100,
          26011100,
          10059010,
          2071400,
          2071400,
          44012200,
          10059010,
          44012200,
          25010011,
          26011100,
          2032900,
          10059010,
          26020090,
          2023000,
          10059010,
          10059010,
          82122010,
          2023000,
          39076100,
          82122010,
          10059010,
          8071900,
          39076100,
          10059010,
          2023000,
          27131100,
          82121020,
          2023000,
          27111100,
          2071400,
          26140010,
          22071090,
          22071090,
          25232910,
          16010000,
          15171000,
          10059010,
          2071400,
          10063021,
          20091100,
          20091100,
          22071090,
          22071090,
          4090000,
          10059010,
          8012100,
          10059010
         ],
         "yaxis": "y"
        }
       ],
       "layout": {
        "barmode": "relative",
        "coloraxis": {
         "colorbar": {
          "title": {
           "text": "Kg estatistica"
          }
         },
         "colorscale": [
          [
           0,
           "#0d0887"
          ],
          [
           0.1111111111111111,
           "#46039f"
          ],
          [
           0.2222222222222222,
           "#7201a8"
          ],
          [
           0.3333333333333333,
           "#9c179e"
          ],
          [
           0.4444444444444444,
           "#bd3786"
          ],
          [
           0.5555555555555556,
           "#d8576b"
          ],
          [
           0.6666666666666666,
           "#ed7953"
          ],
          [
           0.7777777777777778,
           "#fb9f3a"
          ],
          [
           0.8888888888888888,
           "#fdca26"
          ],
          [
           1,
           "#f0f921"
          ]
         ]
        },
        "legend": {
         "tracegroupgap": 0
        },
        "template": {
         "data": {
          "bar": [
           {
            "error_x": {
             "color": "#2a3f5f"
            },
            "error_y": {
             "color": "#2a3f5f"
            },
            "marker": {
             "line": {
              "color": "#E5ECF6",
              "width": 0.5
             },
             "pattern": {
              "fillmode": "overlay",
              "size": 10,
              "solidity": 0.2
             }
            },
            "type": "bar"
           }
          ],
          "barpolar": [
           {
            "marker": {
             "line": {
              "color": "#E5ECF6",
              "width": 0.5
             },
             "pattern": {
              "fillmode": "overlay",
              "size": 10,
              "solidity": 0.2
             }
            },
            "type": "barpolar"
           }
          ],
          "carpet": [
           {
            "aaxis": {
             "endlinecolor": "#2a3f5f",
             "gridcolor": "white",
             "linecolor": "white",
             "minorgridcolor": "white",
             "startlinecolor": "#2a3f5f"
            },
            "baxis": {
             "endlinecolor": "#2a3f5f",
             "gridcolor": "white",
             "linecolor": "white",
             "minorgridcolor": "white",
             "startlinecolor": "#2a3f5f"
            },
            "type": "carpet"
           }
          ],
          "choropleth": [
           {
            "colorbar": {
             "outlinewidth": 0,
             "ticks": ""
            },
            "type": "choropleth"
           }
          ],
          "contour": [
           {
            "colorbar": {
             "outlinewidth": 0,
             "ticks": ""
            },
            "colorscale": [
             [
              0,
              "#0d0887"
             ],
             [
              0.1111111111111111,
              "#46039f"
             ],
             [
              0.2222222222222222,
              "#7201a8"
             ],
             [
              0.3333333333333333,
              "#9c179e"
             ],
             [
              0.4444444444444444,
              "#bd3786"
             ],
             [
              0.5555555555555556,
              "#d8576b"
             ],
             [
              0.6666666666666666,
              "#ed7953"
             ],
             [
              0.7777777777777778,
              "#fb9f3a"
             ],
             [
              0.8888888888888888,
              "#fdca26"
             ],
             [
              1,
              "#f0f921"
             ]
            ],
            "type": "contour"
           }
          ],
          "contourcarpet": [
           {
            "colorbar": {
             "outlinewidth": 0,
             "ticks": ""
            },
            "type": "contourcarpet"
           }
          ],
          "heatmap": [
           {
            "colorbar": {
             "outlinewidth": 0,
             "ticks": ""
            },
            "colorscale": [
             [
              0,
              "#0d0887"
             ],
             [
              0.1111111111111111,
              "#46039f"
             ],
             [
              0.2222222222222222,
              "#7201a8"
             ],
             [
              0.3333333333333333,
              "#9c179e"
             ],
             [
              0.4444444444444444,
              "#bd3786"
             ],
             [
              0.5555555555555556,
              "#d8576b"
             ],
             [
              0.6666666666666666,
              "#ed7953"
             ],
             [
              0.7777777777777778,
              "#fb9f3a"
             ],
             [
              0.8888888888888888,
              "#fdca26"
             ],
             [
              1,
              "#f0f921"
             ]
            ],
            "type": "heatmap"
           }
          ],
          "heatmapgl": [
           {
            "colorbar": {
             "outlinewidth": 0,
             "ticks": ""
            },
            "colorscale": [
             [
              0,
              "#0d0887"
             ],
             [
              0.1111111111111111,
              "#46039f"
             ],
             [
              0.2222222222222222,
              "#7201a8"
             ],
             [
              0.3333333333333333,
              "#9c179e"
             ],
             [
              0.4444444444444444,
              "#bd3786"
             ],
             [
              0.5555555555555556,
              "#d8576b"
             ],
             [
              0.6666666666666666,
              "#ed7953"
             ],
             [
              0.7777777777777778,
              "#fb9f3a"
             ],
             [
              0.8888888888888888,
              "#fdca26"
             ],
             [
              1,
              "#f0f921"
             ]
            ],
            "type": "heatmapgl"
           }
          ],
          "histogram": [
           {
            "marker": {
             "pattern": {
              "fillmode": "overlay",
              "size": 10,
              "solidity": 0.2
             }
            },
            "type": "histogram"
           }
          ],
          "histogram2d": [
           {
            "colorbar": {
             "outlinewidth": 0,
             "ticks": ""
            },
            "colorscale": [
             [
              0,
              "#0d0887"
             ],
             [
              0.1111111111111111,
              "#46039f"
             ],
             [
              0.2222222222222222,
              "#7201a8"
             ],
             [
              0.3333333333333333,
              "#9c179e"
             ],
             [
              0.4444444444444444,
              "#bd3786"
             ],
             [
              0.5555555555555556,
              "#d8576b"
             ],
             [
              0.6666666666666666,
              "#ed7953"
             ],
             [
              0.7777777777777778,
              "#fb9f3a"
             ],
             [
              0.8888888888888888,
              "#fdca26"
             ],
             [
              1,
              "#f0f921"
             ]
            ],
            "type": "histogram2d"
           }
          ],
          "histogram2dcontour": [
           {
            "colorbar": {
             "outlinewidth": 0,
             "ticks": ""
            },
            "colorscale": [
             [
              0,
              "#0d0887"
             ],
             [
              0.1111111111111111,
              "#46039f"
             ],
             [
              0.2222222222222222,
              "#7201a8"
             ],
             [
              0.3333333333333333,
              "#9c179e"
             ],
             [
              0.4444444444444444,
              "#bd3786"
             ],
             [
              0.5555555555555556,
              "#d8576b"
             ],
             [
              0.6666666666666666,
              "#ed7953"
             ],
             [
              0.7777777777777778,
              "#fb9f3a"
             ],
             [
              0.8888888888888888,
              "#fdca26"
             ],
             [
              1,
              "#f0f921"
             ]
            ],
            "type": "histogram2dcontour"
           }
          ],
          "mesh3d": [
           {
            "colorbar": {
             "outlinewidth": 0,
             "ticks": ""
            },
            "type": "mesh3d"
           }
          ],
          "parcoords": [
           {
            "line": {
             "colorbar": {
              "outlinewidth": 0,
              "ticks": ""
             }
            },
            "type": "parcoords"
           }
          ],
          "pie": [
           {
            "automargin": true,
            "type": "pie"
           }
          ],
          "scatter": [
           {
            "fillpattern": {
             "fillmode": "overlay",
             "size": 10,
             "solidity": 0.2
            },
            "type": "scatter"
           }
          ],
          "scatter3d": [
           {
            "line": {
             "colorbar": {
              "outlinewidth": 0,
              "ticks": ""
             }
            },
            "marker": {
             "colorbar": {
              "outlinewidth": 0,
              "ticks": ""
             }
            },
            "type": "scatter3d"
           }
          ],
          "scattercarpet": [
           {
            "marker": {
             "colorbar": {
              "outlinewidth": 0,
              "ticks": ""
             }
            },
            "type": "scattercarpet"
           }
          ],
          "scattergeo": [
           {
            "marker": {
             "colorbar": {
              "outlinewidth": 0,
              "ticks": ""
             }
            },
            "type": "scattergeo"
           }
          ],
          "scattergl": [
           {
            "marker": {
             "colorbar": {
              "outlinewidth": 0,
              "ticks": ""
             }
            },
            "type": "scattergl"
           }
          ],
          "scattermapbox": [
           {
            "marker": {
             "colorbar": {
              "outlinewidth": 0,
              "ticks": ""
             }
            },
            "type": "scattermapbox"
           }
          ],
          "scatterpolar": [
           {
            "marker": {
             "colorbar": {
              "outlinewidth": 0,
              "ticks": ""
             }
            },
            "type": "scatterpolar"
           }
          ],
          "scatterpolargl": [
           {
            "marker": {
             "colorbar": {
              "outlinewidth": 0,
              "ticks": ""
             }
            },
            "type": "scatterpolargl"
           }
          ],
          "scatterternary": [
           {
            "marker": {
             "colorbar": {
              "outlinewidth": 0,
              "ticks": ""
             }
            },
            "type": "scatterternary"
           }
          ],
          "surface": [
           {
            "colorbar": {
             "outlinewidth": 0,
             "ticks": ""
            },
            "colorscale": [
             [
              0,
              "#0d0887"
             ],
             [
              0.1111111111111111,
              "#46039f"
             ],
             [
              0.2222222222222222,
              "#7201a8"
             ],
             [
              0.3333333333333333,
              "#9c179e"
             ],
             [
              0.4444444444444444,
              "#bd3786"
             ],
             [
              0.5555555555555556,
              "#d8576b"
             ],
             [
              0.6666666666666666,
              "#ed7953"
             ],
             [
              0.7777777777777778,
              "#fb9f3a"
             ],
             [
              0.8888888888888888,
              "#fdca26"
             ],
             [
              1,
              "#f0f921"
             ]
            ],
            "type": "surface"
           }
          ],
          "table": [
           {
            "cells": {
             "fill": {
              "color": "#EBF0F8"
             },
             "line": {
              "color": "white"
             }
            },
            "header": {
             "fill": {
              "color": "#C8D4E3"
             },
             "line": {
              "color": "white"
             }
            },
            "type": "table"
           }
          ]
         },
         "layout": {
          "annotationdefaults": {
           "arrowcolor": "#2a3f5f",
           "arrowhead": 0,
           "arrowwidth": 1
          },
          "autotypenumbers": "strict",
          "coloraxis": {
           "colorbar": {
            "outlinewidth": 0,
            "ticks": ""
           }
          },
          "colorscale": {
           "diverging": [
            [
             0,
             "#8e0152"
            ],
            [
             0.1,
             "#c51b7d"
            ],
            [
             0.2,
             "#de77ae"
            ],
            [
             0.3,
             "#f1b6da"
            ],
            [
             0.4,
             "#fde0ef"
            ],
            [
             0.5,
             "#f7f7f7"
            ],
            [
             0.6,
             "#e6f5d0"
            ],
            [
             0.7,
             "#b8e186"
            ],
            [
             0.8,
             "#7fbc41"
            ],
            [
             0.9,
             "#4d9221"
            ],
            [
             1,
             "#276419"
            ]
           ],
           "sequential": [
            [
             0,
             "#0d0887"
            ],
            [
             0.1111111111111111,
             "#46039f"
            ],
            [
             0.2222222222222222,
             "#7201a8"
            ],
            [
             0.3333333333333333,
             "#9c179e"
            ],
            [
             0.4444444444444444,
             "#bd3786"
            ],
            [
             0.5555555555555556,
             "#d8576b"
            ],
            [
             0.6666666666666666,
             "#ed7953"
            ],
            [
             0.7777777777777778,
             "#fb9f3a"
            ],
            [
             0.8888888888888888,
             "#fdca26"
            ],
            [
             1,
             "#f0f921"
            ]
           ],
           "sequentialminus": [
            [
             0,
             "#0d0887"
            ],
            [
             0.1111111111111111,
             "#46039f"
            ],
            [
             0.2222222222222222,
             "#7201a8"
            ],
            [
             0.3333333333333333,
             "#9c179e"
            ],
            [
             0.4444444444444444,
             "#bd3786"
            ],
            [
             0.5555555555555556,
             "#d8576b"
            ],
            [
             0.6666666666666666,
             "#ed7953"
            ],
            [
             0.7777777777777778,
             "#fb9f3a"
            ],
            [
             0.8888888888888888,
             "#fdca26"
            ],
            [
             1,
             "#f0f921"
            ]
           ]
          },
          "colorway": [
           "#636efa",
           "#EF553B",
           "#00cc96",
           "#ab63fa",
           "#FFA15A",
           "#19d3f3",
           "#FF6692",
           "#B6E880",
           "#FF97FF",
           "#FECB52"
          ],
          "font": {
           "color": "#2a3f5f"
          },
          "geo": {
           "bgcolor": "white",
           "lakecolor": "white",
           "landcolor": "#E5ECF6",
           "showlakes": true,
           "showland": true,
           "subunitcolor": "white"
          },
          "hoverlabel": {
           "align": "left"
          },
          "hovermode": "closest",
          "mapbox": {
           "style": "light"
          },
          "paper_bgcolor": "white",
          "plot_bgcolor": "#E5ECF6",
          "polar": {
           "angularaxis": {
            "gridcolor": "white",
            "linecolor": "white",
            "ticks": ""
           },
           "bgcolor": "#E5ECF6",
           "radialaxis": {
            "gridcolor": "white",
            "linecolor": "white",
            "ticks": ""
           }
          },
          "scene": {
           "xaxis": {
            "backgroundcolor": "#E5ECF6",
            "gridcolor": "white",
            "gridwidth": 2,
            "linecolor": "white",
            "showbackground": true,
            "ticks": "",
            "zerolinecolor": "white"
           },
           "yaxis": {
            "backgroundcolor": "#E5ECF6",
            "gridcolor": "white",
            "gridwidth": 2,
            "linecolor": "white",
            "showbackground": true,
            "ticks": "",
            "zerolinecolor": "white"
           },
           "zaxis": {
            "backgroundcolor": "#E5ECF6",
            "gridcolor": "white",
            "gridwidth": 2,
            "linecolor": "white",
            "showbackground": true,
            "ticks": "",
            "zerolinecolor": "white"
           }
          },
          "shapedefaults": {
           "line": {
            "color": "#2a3f5f"
           }
          },
          "ternary": {
           "aaxis": {
            "gridcolor": "white",
            "linecolor": "white",
            "ticks": ""
           },
           "baxis": {
            "gridcolor": "white",
            "linecolor": "white",
            "ticks": ""
           },
           "bgcolor": "#E5ECF6",
           "caxis": {
            "gridcolor": "white",
            "linecolor": "white",
            "ticks": ""
           }
          },
          "title": {
           "x": 0.05
          },
          "xaxis": {
           "automargin": true,
           "gridcolor": "white",
           "linecolor": "white",
           "ticks": "",
           "title": {
            "standoff": 15
           },
           "zerolinecolor": "white",
           "zerolinewidth": 2
          },
          "yaxis": {
           "automargin": true,
           "gridcolor": "white",
           "linecolor": "white",
           "ticks": "",
           "title": {
            "standoff": 15
           },
           "zerolinecolor": "white",
           "zerolinewidth": 2
          }
         }
        },
        "title": {
         "text": "Top 3 Produtos Mais Exportados por Estado"
        },
        "xaxis": {
         "anchor": "y",
         "domain": [
          0,
          1
         ],
         "title": {
          "text": "Cod. UF origem/destino"
         }
        },
        "yaxis": {
         "anchor": "x",
         "domain": [
          0,
          1
         ],
         "title": {
          "text": "Cod. NCM"
         }
        }
       }
      }
     },
     "metadata": {},
     "output_type": "display_data"
    }
   ],
   "source": [
    "#Apenas o segundo gráfico, Top 3 exportações por estado no ano de 2020 e 2021\n",
    "fig_exportacao.show()"
   ]
  },
  {
   "cell_type": "code",
   "execution_count": 27,
   "metadata": {},
   "outputs": [
    {
     "data": {
      "application/vnd.plotly.v1+json": {
       "config": {
        "plotlyServerURL": "https://plot.ly"
       },
       "data": [
        {
         "alignmentgroup": "True",
         "hovertemplate": "Cod. UF origem/destino=%{x}<br>Cod. NCM=%{y}<br>Kg estatistica=%{marker.color}<extra></extra>",
         "legendgroup": "",
         "marker": {
          "color": [
           17811867100,
           17062237000,
           16477793000,
           15159770077,
           14201729447,
           14200217557,
           6143879063,
           5476426976,
           5307282018,
           3378912813,
           2807857687,
           2010321832,
           1933637000,
           1763201300,
           1714763000,
           1409889000,
           1267699003,
           1208665000,
           504936003,
           434859120,
           434384000,
           423992338,
           420455000,
           418591774,
           345038702,
           323925608,
           320657008,
           297659540,
           295618115,
           282234848,
           253105465,
           249261292,
           246446995,
           238151445,
           227077813,
           221160569,
           219000000,
           215000000,
           209726990,
           185314242,
           145918647,
           142705168,
           140272069,
           137500000,
           134229533,
           132122698,
           110894323,
           104914000,
           104704574,
           92108954,
           80284939,
           75118251,
           73950000,
           72450461,
           67419270,
           66566251,
           59336999,
           55403858,
           55161100,
           45067060,
           43914542,
           32966340,
           30555456,
           30212588,
           29999170,
           28279653,
           24288397,
           19801230,
           12041010,
           6984876,
           5801942,
           5665644,
           5310453,
           5246202,
           4991223,
           4520157,
           3278319,
           3090552,
           3080020,
           2725452,
           2287376,
           1268080,
           1130980,
           1078940
          ],
          "coloraxis": "coloraxis",
          "pattern": {
           "shape": ""
          }
         },
         "name": "",
         "offsetgroup": "",
         "orientation": "v",
         "showlegend": false,
         "textposition": "auto",
         "type": "bar",
         "x": [
          "PA",
          "PA",
          "PA",
          "MG",
          "MG",
          "MG",
          "RS",
          "RS",
          "RS",
          "MT",
          "MT",
          "MT",
          "ES",
          "ES",
          "ES",
          "RJ",
          "RJ",
          "RJ",
          "MS",
          "MA",
          "MA",
          "MS",
          "MA",
          "MS",
          "SP",
          "SP",
          "BA",
          "BA",
          "SP",
          "BA",
          "PR",
          "GO",
          "CE",
          "GO",
          "CE",
          "CE",
          "ND",
          "ND",
          "TO",
          "AP",
          "AP",
          "PR",
          "AP",
          "ND",
          "PR",
          "GO",
          "TO",
          "RN",
          "TO",
          "RO",
          "PI",
          "SC",
          "RN",
          "RN",
          "SC",
          "SC",
          "SE",
          "PI",
          "PE",
          "RO",
          "PI",
          "PE",
          "AM",
          "AM",
          "PE",
          "AM",
          "RO",
          "PB",
          "AL",
          "PB",
          "PB",
          "DF",
          "DF",
          "AL",
          "DF",
          "AL",
          "RR",
          "RR",
          "RR",
          "SE",
          "SE",
          "AC",
          "AC",
          "AC"
         ],
         "xaxis": "x",
         "y": [
          26011100,
          26011100,
          26011100,
          26011100,
          26011100,
          26011100,
          71039900,
          71039900,
          71039900,
          10059010,
          10059010,
          10059010,
          26011210,
          26011210,
          26011210,
          26011100,
          26011100,
          26011100,
          26011100,
          26011210,
          28182010,
          26011100,
          28182010,
          47032900,
          71039900,
          71039900,
          26011100,
          47032900,
          71039900,
          47032900,
          10059010,
          10059010,
          72071200,
          10059010,
          72071200,
          72071200,
          26011100,
          26011100,
          10059010,
          26011100,
          26011100,
          10059010,
          26011100,
          28182010,
          2071400,
          10059010,
          10059010,
          25010011,
          10059010,
          10059010,
          10059010,
          2071400,
          25010011,
          25010011,
          2071400,
          2071400,
          27111100,
          10059010,
          27131100,
          10059010,
          10059010,
          39076100,
          82122010,
          82122010,
          27131100,
          82122010,
          10059010,
          26140010,
          17029000,
          22071090,
          22071090,
          2071400,
          10059010,
          29031500,
          10059010,
          22071090,
          16010000,
          15171000,
          16010000,
          20091100,
          20091100,
          8012100,
          8012100,
          8012100
         ],
         "yaxis": "y"
        }
       ],
       "layout": {
        "barmode": "relative",
        "coloraxis": {
         "colorbar": {
          "title": {
           "text": "Kg estatistica"
          }
         },
         "colorscale": [
          [
           0,
           "#0d0887"
          ],
          [
           0.1111111111111111,
           "#46039f"
          ],
          [
           0.2222222222222222,
           "#7201a8"
          ],
          [
           0.3333333333333333,
           "#9c179e"
          ],
          [
           0.4444444444444444,
           "#bd3786"
          ],
          [
           0.5555555555555556,
           "#d8576b"
          ],
          [
           0.6666666666666666,
           "#ed7953"
          ],
          [
           0.7777777777777778,
           "#fb9f3a"
          ],
          [
           0.8888888888888888,
           "#fdca26"
          ],
          [
           1,
           "#f0f921"
          ]
         ]
        },
        "legend": {
         "tracegroupgap": 0
        },
        "template": {
         "data": {
          "bar": [
           {
            "error_x": {
             "color": "#2a3f5f"
            },
            "error_y": {
             "color": "#2a3f5f"
            },
            "marker": {
             "line": {
              "color": "#E5ECF6",
              "width": 0.5
             },
             "pattern": {
              "fillmode": "overlay",
              "size": 10,
              "solidity": 0.2
             }
            },
            "type": "bar"
           }
          ],
          "barpolar": [
           {
            "marker": {
             "line": {
              "color": "#E5ECF6",
              "width": 0.5
             },
             "pattern": {
              "fillmode": "overlay",
              "size": 10,
              "solidity": 0.2
             }
            },
            "type": "barpolar"
           }
          ],
          "carpet": [
           {
            "aaxis": {
             "endlinecolor": "#2a3f5f",
             "gridcolor": "white",
             "linecolor": "white",
             "minorgridcolor": "white",
             "startlinecolor": "#2a3f5f"
            },
            "baxis": {
             "endlinecolor": "#2a3f5f",
             "gridcolor": "white",
             "linecolor": "white",
             "minorgridcolor": "white",
             "startlinecolor": "#2a3f5f"
            },
            "type": "carpet"
           }
          ],
          "choropleth": [
           {
            "colorbar": {
             "outlinewidth": 0,
             "ticks": ""
            },
            "type": "choropleth"
           }
          ],
          "contour": [
           {
            "colorbar": {
             "outlinewidth": 0,
             "ticks": ""
            },
            "colorscale": [
             [
              0,
              "#0d0887"
             ],
             [
              0.1111111111111111,
              "#46039f"
             ],
             [
              0.2222222222222222,
              "#7201a8"
             ],
             [
              0.3333333333333333,
              "#9c179e"
             ],
             [
              0.4444444444444444,
              "#bd3786"
             ],
             [
              0.5555555555555556,
              "#d8576b"
             ],
             [
              0.6666666666666666,
              "#ed7953"
             ],
             [
              0.7777777777777778,
              "#fb9f3a"
             ],
             [
              0.8888888888888888,
              "#fdca26"
             ],
             [
              1,
              "#f0f921"
             ]
            ],
            "type": "contour"
           }
          ],
          "contourcarpet": [
           {
            "colorbar": {
             "outlinewidth": 0,
             "ticks": ""
            },
            "type": "contourcarpet"
           }
          ],
          "heatmap": [
           {
            "colorbar": {
             "outlinewidth": 0,
             "ticks": ""
            },
            "colorscale": [
             [
              0,
              "#0d0887"
             ],
             [
              0.1111111111111111,
              "#46039f"
             ],
             [
              0.2222222222222222,
              "#7201a8"
             ],
             [
              0.3333333333333333,
              "#9c179e"
             ],
             [
              0.4444444444444444,
              "#bd3786"
             ],
             [
              0.5555555555555556,
              "#d8576b"
             ],
             [
              0.6666666666666666,
              "#ed7953"
             ],
             [
              0.7777777777777778,
              "#fb9f3a"
             ],
             [
              0.8888888888888888,
              "#fdca26"
             ],
             [
              1,
              "#f0f921"
             ]
            ],
            "type": "heatmap"
           }
          ],
          "heatmapgl": [
           {
            "colorbar": {
             "outlinewidth": 0,
             "ticks": ""
            },
            "colorscale": [
             [
              0,
              "#0d0887"
             ],
             [
              0.1111111111111111,
              "#46039f"
             ],
             [
              0.2222222222222222,
              "#7201a8"
             ],
             [
              0.3333333333333333,
              "#9c179e"
             ],
             [
              0.4444444444444444,
              "#bd3786"
             ],
             [
              0.5555555555555556,
              "#d8576b"
             ],
             [
              0.6666666666666666,
              "#ed7953"
             ],
             [
              0.7777777777777778,
              "#fb9f3a"
             ],
             [
              0.8888888888888888,
              "#fdca26"
             ],
             [
              1,
              "#f0f921"
             ]
            ],
            "type": "heatmapgl"
           }
          ],
          "histogram": [
           {
            "marker": {
             "pattern": {
              "fillmode": "overlay",
              "size": 10,
              "solidity": 0.2
             }
            },
            "type": "histogram"
           }
          ],
          "histogram2d": [
           {
            "colorbar": {
             "outlinewidth": 0,
             "ticks": ""
            },
            "colorscale": [
             [
              0,
              "#0d0887"
             ],
             [
              0.1111111111111111,
              "#46039f"
             ],
             [
              0.2222222222222222,
              "#7201a8"
             ],
             [
              0.3333333333333333,
              "#9c179e"
             ],
             [
              0.4444444444444444,
              "#bd3786"
             ],
             [
              0.5555555555555556,
              "#d8576b"
             ],
             [
              0.6666666666666666,
              "#ed7953"
             ],
             [
              0.7777777777777778,
              "#fb9f3a"
             ],
             [
              0.8888888888888888,
              "#fdca26"
             ],
             [
              1,
              "#f0f921"
             ]
            ],
            "type": "histogram2d"
           }
          ],
          "histogram2dcontour": [
           {
            "colorbar": {
             "outlinewidth": 0,
             "ticks": ""
            },
            "colorscale": [
             [
              0,
              "#0d0887"
             ],
             [
              0.1111111111111111,
              "#46039f"
             ],
             [
              0.2222222222222222,
              "#7201a8"
             ],
             [
              0.3333333333333333,
              "#9c179e"
             ],
             [
              0.4444444444444444,
              "#bd3786"
             ],
             [
              0.5555555555555556,
              "#d8576b"
             ],
             [
              0.6666666666666666,
              "#ed7953"
             ],
             [
              0.7777777777777778,
              "#fb9f3a"
             ],
             [
              0.8888888888888888,
              "#fdca26"
             ],
             [
              1,
              "#f0f921"
             ]
            ],
            "type": "histogram2dcontour"
           }
          ],
          "mesh3d": [
           {
            "colorbar": {
             "outlinewidth": 0,
             "ticks": ""
            },
            "type": "mesh3d"
           }
          ],
          "parcoords": [
           {
            "line": {
             "colorbar": {
              "outlinewidth": 0,
              "ticks": ""
             }
            },
            "type": "parcoords"
           }
          ],
          "pie": [
           {
            "automargin": true,
            "type": "pie"
           }
          ],
          "scatter": [
           {
            "fillpattern": {
             "fillmode": "overlay",
             "size": 10,
             "solidity": 0.2
            },
            "type": "scatter"
           }
          ],
          "scatter3d": [
           {
            "line": {
             "colorbar": {
              "outlinewidth": 0,
              "ticks": ""
             }
            },
            "marker": {
             "colorbar": {
              "outlinewidth": 0,
              "ticks": ""
             }
            },
            "type": "scatter3d"
           }
          ],
          "scattercarpet": [
           {
            "marker": {
             "colorbar": {
              "outlinewidth": 0,
              "ticks": ""
             }
            },
            "type": "scattercarpet"
           }
          ],
          "scattergeo": [
           {
            "marker": {
             "colorbar": {
              "outlinewidth": 0,
              "ticks": ""
             }
            },
            "type": "scattergeo"
           }
          ],
          "scattergl": [
           {
            "marker": {
             "colorbar": {
              "outlinewidth": 0,
              "ticks": ""
             }
            },
            "type": "scattergl"
           }
          ],
          "scattermapbox": [
           {
            "marker": {
             "colorbar": {
              "outlinewidth": 0,
              "ticks": ""
             }
            },
            "type": "scattermapbox"
           }
          ],
          "scatterpolar": [
           {
            "marker": {
             "colorbar": {
              "outlinewidth": 0,
              "ticks": ""
             }
            },
            "type": "scatterpolar"
           }
          ],
          "scatterpolargl": [
           {
            "marker": {
             "colorbar": {
              "outlinewidth": 0,
              "ticks": ""
             }
            },
            "type": "scatterpolargl"
           }
          ],
          "scatterternary": [
           {
            "marker": {
             "colorbar": {
              "outlinewidth": 0,
              "ticks": ""
             }
            },
            "type": "scatterternary"
           }
          ],
          "surface": [
           {
            "colorbar": {
             "outlinewidth": 0,
             "ticks": ""
            },
            "colorscale": [
             [
              0,
              "#0d0887"
             ],
             [
              0.1111111111111111,
              "#46039f"
             ],
             [
              0.2222222222222222,
              "#7201a8"
             ],
             [
              0.3333333333333333,
              "#9c179e"
             ],
             [
              0.4444444444444444,
              "#bd3786"
             ],
             [
              0.5555555555555556,
              "#d8576b"
             ],
             [
              0.6666666666666666,
              "#ed7953"
             ],
             [
              0.7777777777777778,
              "#fb9f3a"
             ],
             [
              0.8888888888888888,
              "#fdca26"
             ],
             [
              1,
              "#f0f921"
             ]
            ],
            "type": "surface"
           }
          ],
          "table": [
           {
            "cells": {
             "fill": {
              "color": "#EBF0F8"
             },
             "line": {
              "color": "white"
             }
            },
            "header": {
             "fill": {
              "color": "#C8D4E3"
             },
             "line": {
              "color": "white"
             }
            },
            "type": "table"
           }
          ]
         },
         "layout": {
          "annotationdefaults": {
           "arrowcolor": "#2a3f5f",
           "arrowhead": 0,
           "arrowwidth": 1
          },
          "autotypenumbers": "strict",
          "coloraxis": {
           "colorbar": {
            "outlinewidth": 0,
            "ticks": ""
           }
          },
          "colorscale": {
           "diverging": [
            [
             0,
             "#8e0152"
            ],
            [
             0.1,
             "#c51b7d"
            ],
            [
             0.2,
             "#de77ae"
            ],
            [
             0.3,
             "#f1b6da"
            ],
            [
             0.4,
             "#fde0ef"
            ],
            [
             0.5,
             "#f7f7f7"
            ],
            [
             0.6,
             "#e6f5d0"
            ],
            [
             0.7,
             "#b8e186"
            ],
            [
             0.8,
             "#7fbc41"
            ],
            [
             0.9,
             "#4d9221"
            ],
            [
             1,
             "#276419"
            ]
           ],
           "sequential": [
            [
             0,
             "#0d0887"
            ],
            [
             0.1111111111111111,
             "#46039f"
            ],
            [
             0.2222222222222222,
             "#7201a8"
            ],
            [
             0.3333333333333333,
             "#9c179e"
            ],
            [
             0.4444444444444444,
             "#bd3786"
            ],
            [
             0.5555555555555556,
             "#d8576b"
            ],
            [
             0.6666666666666666,
             "#ed7953"
            ],
            [
             0.7777777777777778,
             "#fb9f3a"
            ],
            [
             0.8888888888888888,
             "#fdca26"
            ],
            [
             1,
             "#f0f921"
            ]
           ],
           "sequentialminus": [
            [
             0,
             "#0d0887"
            ],
            [
             0.1111111111111111,
             "#46039f"
            ],
            [
             0.2222222222222222,
             "#7201a8"
            ],
            [
             0.3333333333333333,
             "#9c179e"
            ],
            [
             0.4444444444444444,
             "#bd3786"
            ],
            [
             0.5555555555555556,
             "#d8576b"
            ],
            [
             0.6666666666666666,
             "#ed7953"
            ],
            [
             0.7777777777777778,
             "#fb9f3a"
            ],
            [
             0.8888888888888888,
             "#fdca26"
            ],
            [
             1,
             "#f0f921"
            ]
           ]
          },
          "colorway": [
           "#636efa",
           "#EF553B",
           "#00cc96",
           "#ab63fa",
           "#FFA15A",
           "#19d3f3",
           "#FF6692",
           "#B6E880",
           "#FF97FF",
           "#FECB52"
          ],
          "font": {
           "color": "#2a3f5f"
          },
          "geo": {
           "bgcolor": "white",
           "lakecolor": "white",
           "landcolor": "#E5ECF6",
           "showlakes": true,
           "showland": true,
           "subunitcolor": "white"
          },
          "hoverlabel": {
           "align": "left"
          },
          "hovermode": "closest",
          "mapbox": {
           "style": "light"
          },
          "paper_bgcolor": "white",
          "plot_bgcolor": "#E5ECF6",
          "polar": {
           "angularaxis": {
            "gridcolor": "white",
            "linecolor": "white",
            "ticks": ""
           },
           "bgcolor": "#E5ECF6",
           "radialaxis": {
            "gridcolor": "white",
            "linecolor": "white",
            "ticks": ""
           }
          },
          "scene": {
           "xaxis": {
            "backgroundcolor": "#E5ECF6",
            "gridcolor": "white",
            "gridwidth": 2,
            "linecolor": "white",
            "showbackground": true,
            "ticks": "",
            "zerolinecolor": "white"
           },
           "yaxis": {
            "backgroundcolor": "#E5ECF6",
            "gridcolor": "white",
            "gridwidth": 2,
            "linecolor": "white",
            "showbackground": true,
            "ticks": "",
            "zerolinecolor": "white"
           },
           "zaxis": {
            "backgroundcolor": "#E5ECF6",
            "gridcolor": "white",
            "gridwidth": 2,
            "linecolor": "white",
            "showbackground": true,
            "ticks": "",
            "zerolinecolor": "white"
           }
          },
          "shapedefaults": {
           "line": {
            "color": "#2a3f5f"
           }
          },
          "ternary": {
           "aaxis": {
            "gridcolor": "white",
            "linecolor": "white",
            "ticks": ""
           },
           "baxis": {
            "gridcolor": "white",
            "linecolor": "white",
            "ticks": ""
           },
           "bgcolor": "#E5ECF6",
           "caxis": {
            "gridcolor": "white",
            "linecolor": "white",
            "ticks": ""
           }
          },
          "title": {
           "x": 0.05
          },
          "xaxis": {
           "automargin": true,
           "gridcolor": "white",
           "linecolor": "white",
           "ticks": "",
           "title": {
            "standoff": 15
           },
           "zerolinecolor": "white",
           "zerolinewidth": 2
          },
          "yaxis": {
           "automargin": true,
           "gridcolor": "white",
           "linecolor": "white",
           "ticks": "",
           "title": {
            "standoff": 15
           },
           "zerolinecolor": "white",
           "zerolinewidth": 2
          }
         }
        },
        "title": {
         "text": "Top 3 Produtos Mais Exportados por mês de 2021 por Estado"
        },
        "xaxis": {
         "anchor": "y",
         "domain": [
          0,
          1
         ],
         "title": {
          "text": "Cod. UF origem/destino"
         }
        },
        "yaxis": {
         "anchor": "x",
         "domain": [
          0,
          1
         ],
         "title": {
          "text": "Cod. NCM"
         }
        }
       }
      }
     },
     "metadata": {},
     "output_type": "display_data"
    }
   ],
   "source": [
    "#Apenas o terceiro gráfico, Top 3 exportações por estado e por mês no ano de 2021\n",
    "fig_expMes.show()"
   ]
  },
  {
   "cell_type": "code",
   "execution_count": 36,
   "metadata": {},
   "outputs": [
    {
     "data": {
      "application/vnd.plotly.v1+json": {
       "config": {
        "plotlyServerURL": "https://plot.ly"
       },
       "data": [
        {
         "alignmentgroup": "True",
         "hovertemplate": "Cod. UF origem/destino=%{x}<br>Cod. NCM=%{y}<br>Kg estatistica=%{marker.color}<extra></extra>",
         "legendgroup": "",
         "marker": {
          "color": [
           27650352539,
           22248777967,
           19002954497,
           15895182710,
           14032830291,
           8406510489,
           5438765818,
           5064589045,
           4826356067,
           4711892752,
           4250320835,
           4120649393,
           3985224388,
           3918742271,
           3691293903,
           3488445902,
           3343466131,
           3330103847,
           3077045696,
           2945164553,
           2511437386,
           1960081569,
           1877236630,
           1801428782,
           1673324770,
           1477820769,
           1442949784,
           1440327796,
           1380115342,
           1356228452,
           1337250707,
           1259899018,
           1243072535,
           1187749873,
           1167964542,
           1138301448,
           1019321061,
           870038102,
           841881137,
           838413795,
           813772890,
           806236019,
           767713940,
           710764602,
           694339653,
           680348853,
           652113164,
           522599387,
           483151934,
           370564971,
           310315241,
           291738400,
           283832319,
           272304562,
           235639759,
           235243013,
           225015726,
           223225691,
           183838487,
           169562190,
           156451344,
           155658129,
           110450630,
           106675940,
           106418034,
           88173497,
           83055564,
           66915818,
           59858560,
           46800000,
           46344890,
           39689450,
           32934523,
           23764559,
           18744995,
           9500000,
           8340191,
           2500000,
           360000,
           320000,
           308000,
           900,
           160,
           160,
           0
          ],
          "coloraxis": "coloraxis",
          "pattern": {
           "shape": ""
          }
         },
         "name": "",
         "offsetgroup": "",
         "orientation": "v",
         "showlegend": false,
         "textposition": "auto",
         "type": "bar",
         "x": [
          "AM",
          "AM",
          "AM",
          "SP",
          "SP",
          "SP",
          "MS",
          "ES",
          "MS",
          "CE",
          "MG",
          "RJ",
          "ES",
          "RJ",
          "RJ",
          "SC",
          "CE",
          "MG",
          "MT",
          "SC",
          "MT",
          "BA",
          "RS",
          "RS",
          "PR",
          "PR",
          "SC",
          "PR",
          "MA",
          "MT",
          "MG",
          "RS",
          "PE",
          "PE",
          "CE",
          "GO",
          "GO",
          "ES",
          "MA",
          "BA",
          "PA",
          "PA",
          "MA",
          "BA",
          "PE",
          "PA",
          "GO",
          "PB",
          "MS",
          "AL",
          "RO",
          "DF",
          "RN",
          "PB",
          "PB",
          "DF",
          "AL",
          "RN",
          "DF",
          "RN",
          "AL",
          "SE",
          "SE",
          "SE",
          "TO",
          "TO",
          "TO",
          "PI",
          "PI",
          "RO",
          "PI",
          "RO",
          "AP",
          "AP",
          "AP",
          "RR",
          "RR",
          "RR",
          "AC",
          "AC",
          "AC",
          "EX",
          "EX",
          "EX",
          "ND"
         ],
         "xaxis": "x",
         "y": [
          85322410,
          85322410,
          85332120,
          85322410,
          85322410,
          85332120,
          27112100,
          27011200,
          27112100,
          27011200,
          27011200,
          27111100,
          27011200,
          27011200,
          27011200,
          40151900,
          27011200,
          27011200,
          31042090,
          40151900,
          31042090,
          27111100,
          31042090,
          31042090,
          10059010,
          31042090,
          31021010,
          31042090,
          27011200,
          31021010,
          85322410,
          31021010,
          27111290,
          27111290,
          10019900,
          31042090,
          31042090,
          27011100,
          27011200,
          10019900,
          27011200,
          27011200,
          28151200,
          10019900,
          10019900,
          28151200,
          31021010,
          27131100,
          31042090,
          25010019,
          85065010,
          90183190,
          10019900,
          27131100,
          10019900,
          27131100,
          29031500,
          10019900,
          27131100,
          27131100,
          29031500,
          27111100,
          10019900,
          85369090,
          27079990,
          31042090,
          31042090,
          72083990,
          10019900,
          90183999,
          10019900,
          31042090,
          27101999,
          27101999,
          10011900,
          31042090,
          31056000,
          31031900,
          28332960,
          32029011,
          11010010,
          39092029,
          94059900,
          94041000,
          27160000
         ],
         "yaxis": "y"
        },
        {
         "alignmentgroup": "True",
         "hovertemplate": "Cod. UF origem/destino=%{x}<br>Cod. NCM=%{y}<br>Kg estatistica=%{marker.color}<extra></extra>",
         "legendgroup": "",
         "marker": {
          "color": [
           182977545000,
           175978859480,
           146968522569,
           126895336623,
           49133339972,
           32536543754,
           22027991286,
           16279484110,
           15321949898,
           12934538100,
           11513145128,
           8940804265,
           5148568000,
           4538135492,
           4113815087,
           3964313829,
           3918955500,
           3625991000,
           3594032000,
           2820282854,
           2738698708,
           2680637099,
           2525155102,
           2472412936,
           2206269352,
           1911501968,
           1884187940,
           1868327070,
           1764038092,
           1676445313,
           1660121808,
           1560968699,
           1495368803,
           1350090128,
           1211209039,
           1038450237,
           989927386,
           928474861,
           791108530,
           751865147,
           742882820,
           683513177,
           598871260,
           596515151,
           589249960,
           532266023,
           518200000,
           510799814,
           485807306,
           347102930,
           338790950,
           299704773,
           280354244,
           260174358,
           239925848,
           234939540,
           229602368,
           204959903,
           172913923,
           156380040,
           144346217,
           140628520,
           134777463,
           123008925,
           72016748,
           59336999,
           44245296,
           39976133,
           39070102,
           33239053,
           29090217,
           28528450,
           28045589,
           24818059,
           24128152,
           19333880,
           16572759,
           15366834,
           14111047,
           13497135,
           11909613,
           7552200,
           5972994,
           4218890
          ],
          "coloraxis": "coloraxis",
          "pattern": {
           "shape": ""
          }
         },
         "name": "",
         "offsetgroup": "",
         "orientation": "v",
         "showlegend": false,
         "textposition": "auto",
         "type": "bar",
         "x": [
          "PA",
          "PA",
          "MG",
          "MG",
          "RS",
          "RS",
          "MT",
          "ES",
          "MT",
          "RJ",
          "ES",
          "RJ",
          "PA",
          "MS",
          "MS",
          "GO",
          "MA",
          "MA",
          "MA",
          "MS",
          "RJ",
          "MG",
          "BA",
          "BA",
          "CE",
          "CE",
          "PR",
          "ES",
          "RS",
          "SP",
          "SP",
          "SP",
          "RN",
          "PR",
          "PR",
          "GO",
          "BA",
          "AP",
          "ND",
          "TO",
          "SC",
          "SC",
          "AP",
          "TO",
          "AP",
          "RN",
          "ND",
          "SC",
          "ND",
          "CE",
          "MT",
          "PI",
          "PI",
          "AM",
          "GO",
          "PE",
          "AM",
          "RO",
          "RN",
          "PE",
          "RO",
          "RO",
          "PE",
          "AM",
          "TO",
          "SE",
          "DF",
          "PB",
          "PB",
          "PB",
          "DF",
          "RR",
          "RR",
          "AL",
          "DF",
          "RR",
          "SE",
          "SE",
          "AL",
          "AL",
          "PI",
          "AC",
          "AC",
          "AC"
         ],
         "xaxis": "x2",
         "y": [
          26011100,
          26011100,
          26011100,
          26011100,
          71039900,
          71039900,
          10059010,
          26011210,
          10059010,
          26011100,
          26011210,
          26011100,
          26060011,
          47032900,
          47032900,
          10059010,
          28182010,
          28182010,
          26011210,
          26011100,
          72071200,
          72011000,
          47032900,
          47032900,
          72071200,
          72071200,
          10059010,
          47032900,
          47032900,
          47032900,
          71039900,
          47032900,
          25010011,
          2071400,
          2071400,
          10059010,
          26011100,
          26011100,
          26011100,
          10059010,
          2071400,
          2071400,
          44012200,
          10059010,
          44012200,
          25010011,
          26011100,
          2032900,
          10059010,
          26020090,
          2023000,
          10059010,
          10059010,
          82122010,
          2023000,
          39076100,
          82122010,
          10059010,
          8071900,
          39076100,
          10059010,
          2023000,
          27131100,
          82121020,
          2023000,
          27111100,
          2071400,
          26140010,
          22071090,
          22071090,
          25232910,
          16010000,
          15171000,
          10059010,
          2071400,
          10063021,
          20091100,
          20091100,
          22071090,
          22071090,
          4090000,
          10059010,
          8012100,
          10059010
         ],
         "yaxis": "y2"
        },
        {
         "alignmentgroup": "True",
         "hovertemplate": "Cod. UF origem/destino=%{x}<br>Cod. NCM=%{y}<br>Kg estatistica=%{marker.color}<extra></extra>",
         "legendgroup": "",
         "marker": {
          "color": [
           17811867100,
           17062237000,
           16477793000,
           15159770077,
           14201729447,
           14200217557,
           6143879063,
           5476426976,
           5307282018,
           3378912813,
           2807857687,
           2010321832,
           1933637000,
           1763201300,
           1714763000,
           1409889000,
           1267699003,
           1208665000,
           504936003,
           434859120,
           434384000,
           423992338,
           420455000,
           418591774,
           345038702,
           323925608,
           320657008,
           297659540,
           295618115,
           282234848,
           253105465,
           249261292,
           246446995,
           238151445,
           227077813,
           221160569,
           219000000,
           215000000,
           209726990,
           185314242,
           145918647,
           142705168,
           140272069,
           137500000,
           134229533,
           132122698,
           110894323,
           104914000,
           104704574,
           92108954,
           80284939,
           75118251,
           73950000,
           72450461,
           67419270,
           66566251,
           59336999,
           55403858,
           55161100,
           45067060,
           43914542,
           32966340,
           30555456,
           30212588,
           29999170,
           28279653,
           24288397,
           19801230,
           12041010,
           6984876,
           5801942,
           5665644,
           5310453,
           5246202,
           4991223,
           4520157,
           3278319,
           3090552,
           3080020,
           2725452,
           2287376,
           1268080,
           1130980,
           1078940
          ],
          "coloraxis": "coloraxis",
          "pattern": {
           "shape": ""
          }
         },
         "name": "",
         "offsetgroup": "",
         "orientation": "v",
         "showlegend": false,
         "textposition": "auto",
         "type": "bar",
         "x": [
          "PA",
          "PA",
          "PA",
          "MG",
          "MG",
          "MG",
          "RS",
          "RS",
          "RS",
          "MT",
          "MT",
          "MT",
          "ES",
          "ES",
          "ES",
          "RJ",
          "RJ",
          "RJ",
          "MS",
          "MA",
          "MA",
          "MS",
          "MA",
          "MS",
          "SP",
          "SP",
          "BA",
          "BA",
          "SP",
          "BA",
          "PR",
          "GO",
          "CE",
          "GO",
          "CE",
          "CE",
          "ND",
          "ND",
          "TO",
          "AP",
          "AP",
          "PR",
          "AP",
          "ND",
          "PR",
          "GO",
          "TO",
          "RN",
          "TO",
          "RO",
          "PI",
          "SC",
          "RN",
          "RN",
          "SC",
          "SC",
          "SE",
          "PI",
          "PE",
          "RO",
          "PI",
          "PE",
          "AM",
          "AM",
          "PE",
          "AM",
          "RO",
          "PB",
          "AL",
          "PB",
          "PB",
          "DF",
          "DF",
          "AL",
          "DF",
          "AL",
          "RR",
          "RR",
          "RR",
          "SE",
          "SE",
          "AC",
          "AC",
          "AC"
         ],
         "xaxis": "x3",
         "y": [
          26011100,
          26011100,
          26011100,
          26011100,
          26011100,
          26011100,
          71039900,
          71039900,
          71039900,
          10059010,
          10059010,
          10059010,
          26011210,
          26011210,
          26011210,
          26011100,
          26011100,
          26011100,
          26011100,
          26011210,
          28182010,
          26011100,
          28182010,
          47032900,
          71039900,
          71039900,
          26011100,
          47032900,
          71039900,
          47032900,
          10059010,
          10059010,
          72071200,
          10059010,
          72071200,
          72071200,
          26011100,
          26011100,
          10059010,
          26011100,
          26011100,
          10059010,
          26011100,
          28182010,
          2071400,
          10059010,
          10059010,
          25010011,
          10059010,
          10059010,
          10059010,
          2071400,
          25010011,
          25010011,
          2071400,
          2071400,
          27111100,
          10059010,
          27131100,
          10059010,
          10059010,
          39076100,
          82122010,
          82122010,
          27131100,
          82122010,
          10059010,
          26140010,
          17029000,
          22071090,
          22071090,
          2071400,
          10059010,
          29031500,
          10059010,
          22071090,
          16010000,
          15171000,
          16010000,
          20091100,
          20091100,
          8012100,
          8012100,
          8012100
         ],
         "yaxis": "y3"
        }
       ],
       "layout": {
        "annotations": [
         {
          "font": {
           "size": 16
          },
          "showarrow": false,
          "text": "Importações 2020/2021",
          "x": 0.5,
          "xanchor": "center",
          "xref": "paper",
          "y": 1,
          "yanchor": "bottom",
          "yref": "paper"
         },
         {
          "font": {
           "size": 16
          },
          "showarrow": false,
          "text": "Exportações 2020/2021",
          "x": 0.5,
          "xanchor": "center",
          "xref": "paper",
          "y": 0.6111111111111112,
          "yanchor": "bottom",
          "yref": "paper"
         },
         {
          "font": {
           "size": 16
          },
          "showarrow": false,
          "text": "Exportações 2021 por mês",
          "x": 0.5,
          "xanchor": "center",
          "xref": "paper",
          "y": 0.22222222222222224,
          "yanchor": "bottom",
          "yref": "paper"
         }
        ],
        "template": {
         "data": {
          "bar": [
           {
            "error_x": {
             "color": "#2a3f5f"
            },
            "error_y": {
             "color": "#2a3f5f"
            },
            "marker": {
             "line": {
              "color": "#E5ECF6",
              "width": 0.5
             },
             "pattern": {
              "fillmode": "overlay",
              "size": 10,
              "solidity": 0.2
             }
            },
            "type": "bar"
           }
          ],
          "barpolar": [
           {
            "marker": {
             "line": {
              "color": "#E5ECF6",
              "width": 0.5
             },
             "pattern": {
              "fillmode": "overlay",
              "size": 10,
              "solidity": 0.2
             }
            },
            "type": "barpolar"
           }
          ],
          "carpet": [
           {
            "aaxis": {
             "endlinecolor": "#2a3f5f",
             "gridcolor": "white",
             "linecolor": "white",
             "minorgridcolor": "white",
             "startlinecolor": "#2a3f5f"
            },
            "baxis": {
             "endlinecolor": "#2a3f5f",
             "gridcolor": "white",
             "linecolor": "white",
             "minorgridcolor": "white",
             "startlinecolor": "#2a3f5f"
            },
            "type": "carpet"
           }
          ],
          "choropleth": [
           {
            "colorbar": {
             "outlinewidth": 0,
             "ticks": ""
            },
            "type": "choropleth"
           }
          ],
          "contour": [
           {
            "colorbar": {
             "outlinewidth": 0,
             "ticks": ""
            },
            "colorscale": [
             [
              0,
              "#0d0887"
             ],
             [
              0.1111111111111111,
              "#46039f"
             ],
             [
              0.2222222222222222,
              "#7201a8"
             ],
             [
              0.3333333333333333,
              "#9c179e"
             ],
             [
              0.4444444444444444,
              "#bd3786"
             ],
             [
              0.5555555555555556,
              "#d8576b"
             ],
             [
              0.6666666666666666,
              "#ed7953"
             ],
             [
              0.7777777777777778,
              "#fb9f3a"
             ],
             [
              0.8888888888888888,
              "#fdca26"
             ],
             [
              1,
              "#f0f921"
             ]
            ],
            "type": "contour"
           }
          ],
          "contourcarpet": [
           {
            "colorbar": {
             "outlinewidth": 0,
             "ticks": ""
            },
            "type": "contourcarpet"
           }
          ],
          "heatmap": [
           {
            "colorbar": {
             "outlinewidth": 0,
             "ticks": ""
            },
            "colorscale": [
             [
              0,
              "#0d0887"
             ],
             [
              0.1111111111111111,
              "#46039f"
             ],
             [
              0.2222222222222222,
              "#7201a8"
             ],
             [
              0.3333333333333333,
              "#9c179e"
             ],
             [
              0.4444444444444444,
              "#bd3786"
             ],
             [
              0.5555555555555556,
              "#d8576b"
             ],
             [
              0.6666666666666666,
              "#ed7953"
             ],
             [
              0.7777777777777778,
              "#fb9f3a"
             ],
             [
              0.8888888888888888,
              "#fdca26"
             ],
             [
              1,
              "#f0f921"
             ]
            ],
            "type": "heatmap"
           }
          ],
          "heatmapgl": [
           {
            "colorbar": {
             "outlinewidth": 0,
             "ticks": ""
            },
            "colorscale": [
             [
              0,
              "#0d0887"
             ],
             [
              0.1111111111111111,
              "#46039f"
             ],
             [
              0.2222222222222222,
              "#7201a8"
             ],
             [
              0.3333333333333333,
              "#9c179e"
             ],
             [
              0.4444444444444444,
              "#bd3786"
             ],
             [
              0.5555555555555556,
              "#d8576b"
             ],
             [
              0.6666666666666666,
              "#ed7953"
             ],
             [
              0.7777777777777778,
              "#fb9f3a"
             ],
             [
              0.8888888888888888,
              "#fdca26"
             ],
             [
              1,
              "#f0f921"
             ]
            ],
            "type": "heatmapgl"
           }
          ],
          "histogram": [
           {
            "marker": {
             "pattern": {
              "fillmode": "overlay",
              "size": 10,
              "solidity": 0.2
             }
            },
            "type": "histogram"
           }
          ],
          "histogram2d": [
           {
            "colorbar": {
             "outlinewidth": 0,
             "ticks": ""
            },
            "colorscale": [
             [
              0,
              "#0d0887"
             ],
             [
              0.1111111111111111,
              "#46039f"
             ],
             [
              0.2222222222222222,
              "#7201a8"
             ],
             [
              0.3333333333333333,
              "#9c179e"
             ],
             [
              0.4444444444444444,
              "#bd3786"
             ],
             [
              0.5555555555555556,
              "#d8576b"
             ],
             [
              0.6666666666666666,
              "#ed7953"
             ],
             [
              0.7777777777777778,
              "#fb9f3a"
             ],
             [
              0.8888888888888888,
              "#fdca26"
             ],
             [
              1,
              "#f0f921"
             ]
            ],
            "type": "histogram2d"
           }
          ],
          "histogram2dcontour": [
           {
            "colorbar": {
             "outlinewidth": 0,
             "ticks": ""
            },
            "colorscale": [
             [
              0,
              "#0d0887"
             ],
             [
              0.1111111111111111,
              "#46039f"
             ],
             [
              0.2222222222222222,
              "#7201a8"
             ],
             [
              0.3333333333333333,
              "#9c179e"
             ],
             [
              0.4444444444444444,
              "#bd3786"
             ],
             [
              0.5555555555555556,
              "#d8576b"
             ],
             [
              0.6666666666666666,
              "#ed7953"
             ],
             [
              0.7777777777777778,
              "#fb9f3a"
             ],
             [
              0.8888888888888888,
              "#fdca26"
             ],
             [
              1,
              "#f0f921"
             ]
            ],
            "type": "histogram2dcontour"
           }
          ],
          "mesh3d": [
           {
            "colorbar": {
             "outlinewidth": 0,
             "ticks": ""
            },
            "type": "mesh3d"
           }
          ],
          "parcoords": [
           {
            "line": {
             "colorbar": {
              "outlinewidth": 0,
              "ticks": ""
             }
            },
            "type": "parcoords"
           }
          ],
          "pie": [
           {
            "automargin": true,
            "type": "pie"
           }
          ],
          "scatter": [
           {
            "fillpattern": {
             "fillmode": "overlay",
             "size": 10,
             "solidity": 0.2
            },
            "type": "scatter"
           }
          ],
          "scatter3d": [
           {
            "line": {
             "colorbar": {
              "outlinewidth": 0,
              "ticks": ""
             }
            },
            "marker": {
             "colorbar": {
              "outlinewidth": 0,
              "ticks": ""
             }
            },
            "type": "scatter3d"
           }
          ],
          "scattercarpet": [
           {
            "marker": {
             "colorbar": {
              "outlinewidth": 0,
              "ticks": ""
             }
            },
            "type": "scattercarpet"
           }
          ],
          "scattergeo": [
           {
            "marker": {
             "colorbar": {
              "outlinewidth": 0,
              "ticks": ""
             }
            },
            "type": "scattergeo"
           }
          ],
          "scattergl": [
           {
            "marker": {
             "colorbar": {
              "outlinewidth": 0,
              "ticks": ""
             }
            },
            "type": "scattergl"
           }
          ],
          "scattermapbox": [
           {
            "marker": {
             "colorbar": {
              "outlinewidth": 0,
              "ticks": ""
             }
            },
            "type": "scattermapbox"
           }
          ],
          "scatterpolar": [
           {
            "marker": {
             "colorbar": {
              "outlinewidth": 0,
              "ticks": ""
             }
            },
            "type": "scatterpolar"
           }
          ],
          "scatterpolargl": [
           {
            "marker": {
             "colorbar": {
              "outlinewidth": 0,
              "ticks": ""
             }
            },
            "type": "scatterpolargl"
           }
          ],
          "scatterternary": [
           {
            "marker": {
             "colorbar": {
              "outlinewidth": 0,
              "ticks": ""
             }
            },
            "type": "scatterternary"
           }
          ],
          "surface": [
           {
            "colorbar": {
             "outlinewidth": 0,
             "ticks": ""
            },
            "colorscale": [
             [
              0,
              "#0d0887"
             ],
             [
              0.1111111111111111,
              "#46039f"
             ],
             [
              0.2222222222222222,
              "#7201a8"
             ],
             [
              0.3333333333333333,
              "#9c179e"
             ],
             [
              0.4444444444444444,
              "#bd3786"
             ],
             [
              0.5555555555555556,
              "#d8576b"
             ],
             [
              0.6666666666666666,
              "#ed7953"
             ],
             [
              0.7777777777777778,
              "#fb9f3a"
             ],
             [
              0.8888888888888888,
              "#fdca26"
             ],
             [
              1,
              "#f0f921"
             ]
            ],
            "type": "surface"
           }
          ],
          "table": [
           {
            "cells": {
             "fill": {
              "color": "#EBF0F8"
             },
             "line": {
              "color": "white"
             }
            },
            "header": {
             "fill": {
              "color": "#C8D4E3"
             },
             "line": {
              "color": "white"
             }
            },
            "type": "table"
           }
          ]
         },
         "layout": {
          "annotationdefaults": {
           "arrowcolor": "#2a3f5f",
           "arrowhead": 0,
           "arrowwidth": 1
          },
          "autotypenumbers": "strict",
          "coloraxis": {
           "colorbar": {
            "outlinewidth": 0,
            "ticks": ""
           }
          },
          "colorscale": {
           "diverging": [
            [
             0,
             "#8e0152"
            ],
            [
             0.1,
             "#c51b7d"
            ],
            [
             0.2,
             "#de77ae"
            ],
            [
             0.3,
             "#f1b6da"
            ],
            [
             0.4,
             "#fde0ef"
            ],
            [
             0.5,
             "#f7f7f7"
            ],
            [
             0.6,
             "#e6f5d0"
            ],
            [
             0.7,
             "#b8e186"
            ],
            [
             0.8,
             "#7fbc41"
            ],
            [
             0.9,
             "#4d9221"
            ],
            [
             1,
             "#276419"
            ]
           ],
           "sequential": [
            [
             0,
             "#0d0887"
            ],
            [
             0.1111111111111111,
             "#46039f"
            ],
            [
             0.2222222222222222,
             "#7201a8"
            ],
            [
             0.3333333333333333,
             "#9c179e"
            ],
            [
             0.4444444444444444,
             "#bd3786"
            ],
            [
             0.5555555555555556,
             "#d8576b"
            ],
            [
             0.6666666666666666,
             "#ed7953"
            ],
            [
             0.7777777777777778,
             "#fb9f3a"
            ],
            [
             0.8888888888888888,
             "#fdca26"
            ],
            [
             1,
             "#f0f921"
            ]
           ],
           "sequentialminus": [
            [
             0,
             "#0d0887"
            ],
            [
             0.1111111111111111,
             "#46039f"
            ],
            [
             0.2222222222222222,
             "#7201a8"
            ],
            [
             0.3333333333333333,
             "#9c179e"
            ],
            [
             0.4444444444444444,
             "#bd3786"
            ],
            [
             0.5555555555555556,
             "#d8576b"
            ],
            [
             0.6666666666666666,
             "#ed7953"
            ],
            [
             0.7777777777777778,
             "#fb9f3a"
            ],
            [
             0.8888888888888888,
             "#fdca26"
            ],
            [
             1,
             "#f0f921"
            ]
           ]
          },
          "colorway": [
           "#636efa",
           "#EF553B",
           "#00cc96",
           "#ab63fa",
           "#FFA15A",
           "#19d3f3",
           "#FF6692",
           "#B6E880",
           "#FF97FF",
           "#FECB52"
          ],
          "font": {
           "color": "#2a3f5f"
          },
          "geo": {
           "bgcolor": "white",
           "lakecolor": "white",
           "landcolor": "#E5ECF6",
           "showlakes": true,
           "showland": true,
           "subunitcolor": "white"
          },
          "hoverlabel": {
           "align": "left"
          },
          "hovermode": "closest",
          "mapbox": {
           "style": "light"
          },
          "paper_bgcolor": "white",
          "plot_bgcolor": "#E5ECF6",
          "polar": {
           "angularaxis": {
            "gridcolor": "white",
            "linecolor": "white",
            "ticks": ""
           },
           "bgcolor": "#E5ECF6",
           "radialaxis": {
            "gridcolor": "white",
            "linecolor": "white",
            "ticks": ""
           }
          },
          "scene": {
           "xaxis": {
            "backgroundcolor": "#E5ECF6",
            "gridcolor": "white",
            "gridwidth": 2,
            "linecolor": "white",
            "showbackground": true,
            "ticks": "",
            "zerolinecolor": "white"
           },
           "yaxis": {
            "backgroundcolor": "#E5ECF6",
            "gridcolor": "white",
            "gridwidth": 2,
            "linecolor": "white",
            "showbackground": true,
            "ticks": "",
            "zerolinecolor": "white"
           },
           "zaxis": {
            "backgroundcolor": "#E5ECF6",
            "gridcolor": "white",
            "gridwidth": 2,
            "linecolor": "white",
            "showbackground": true,
            "ticks": "",
            "zerolinecolor": "white"
           }
          },
          "shapedefaults": {
           "line": {
            "color": "#2a3f5f"
           }
          },
          "ternary": {
           "aaxis": {
            "gridcolor": "white",
            "linecolor": "white",
            "ticks": ""
           },
           "baxis": {
            "gridcolor": "white",
            "linecolor": "white",
            "ticks": ""
           },
           "bgcolor": "#E5ECF6",
           "caxis": {
            "gridcolor": "white",
            "linecolor": "white",
            "ticks": ""
           }
          },
          "title": {
           "x": 0.05
          },
          "xaxis": {
           "automargin": true,
           "gridcolor": "white",
           "linecolor": "white",
           "ticks": "",
           "title": {
            "standoff": 15
           },
           "zerolinecolor": "white",
           "zerolinewidth": 2
          },
          "yaxis": {
           "automargin": true,
           "gridcolor": "white",
           "linecolor": "white",
           "ticks": "",
           "title": {
            "standoff": 15
           },
           "zerolinecolor": "white",
           "zerolinewidth": 2
          }
         }
        },
        "title": {
         "text": "Dashboard"
        },
        "xaxis": {
         "anchor": "y",
         "domain": [
          0,
          1
         ]
        },
        "xaxis2": {
         "anchor": "y2",
         "domain": [
          0,
          1
         ]
        },
        "xaxis3": {
         "anchor": "y3",
         "domain": [
          0,
          1
         ]
        },
        "yaxis": {
         "anchor": "x",
         "domain": [
          0.7777777777777778,
          1
         ]
        },
        "yaxis2": {
         "anchor": "x2",
         "domain": [
          0.3888888888888889,
          0.6111111111111112
         ]
        },
        "yaxis3": {
         "anchor": "x3",
         "domain": [
          0,
          0.22222222222222224
         ]
        }
       }
      }
     },
     "metadata": {},
     "output_type": "display_data"
    }
   ],
   "source": [
    "#Unindo os três gráficos\n",
    "fig = make_subplots(rows=3, cols=1, subplot_titles=('Importações 2020/2021','Exportações 2020/2021', 'Exportações 2021 por mês'))\n",
    "\n",
    "# Adicionar as figuras aos subplots\n",
    "for i, fig_px in enumerate([ fig_importacao, fig_exportacao, fig_expMes], start=1):\n",
    "    for trace in fig_px.data:\n",
    "        fig.add_trace(trace, row=i, col=1)\n",
    "\n",
    "# Atualizar título do layout\n",
    "fig.update_layout(title_text=\"Dashboard\")\n",
    "\n",
    "# Mostrar o painel\n",
    "fig.show()"
   ]
  }
 ],
 "metadata": {
  "kernelspec": {
   "display_name": "Python 3",
   "language": "python",
   "name": "python3"
  },
  "language_info": {
   "codemirror_mode": {
    "name": "ipython",
    "version": 3
   },
   "file_extension": ".py",
   "mimetype": "text/x-python",
   "name": "python",
   "nbconvert_exporter": "python",
   "pygments_lexer": "ipython3",
   "version": "3.9.13"
  }
 },
 "nbformat": 4,
 "nbformat_minor": 2
}
